{
 "cells": [
  {
   "cell_type": "markdown",
   "id": "2f673d49",
   "metadata": {
    "id": "dRMF1GYE6tkG",
    "papermill": {
     "duration": 0.026644,
     "end_time": "2024-02-04T14:41:01.361598",
     "exception": false,
     "start_time": "2024-02-04T14:41:01.334954",
     "status": "completed"
    },
    "tags": []
   },
   "source": [
    "# **Classifying CIFAR10 images using CNN in PyTorch**\n"
   ]
  },
  {
   "cell_type": "code",
   "execution_count": 2,
   "id": "0fbd2cba",
   "metadata": {
    "execution": {
     "iopub.execute_input": "2024-02-04T14:41:01.412448Z",
     "iopub.status.busy": "2024-02-04T14:41:01.412121Z",
     "iopub.status.idle": "2024-02-04T14:41:11.222925Z",
     "shell.execute_reply": "2024-02-04T14:41:11.221952Z"
    },
    "executionInfo": {
     "elapsed": 710,
     "status": "ok",
     "timestamp": 1707054844606,
     "user": {
      "displayName": "Kannapat Thanapakdeechaikul",
      "userId": "03783122863211141133"
     },
     "user_tz": -420
    },
    "id": "BcqBoQj_Z6PO",
    "papermill": {
     "duration": 9.839352,
     "end_time": "2024-02-04T14:41:11.225961",
     "exception": false,
     "start_time": "2024-02-04T14:41:01.386609",
     "status": "completed"
    },
    "tags": []
   },
   "outputs": [],
   "source": [
    "## Importing modules ##\n",
    "\n",
    "# Import PyTorch\n",
    "import torch\n",
    "from torch import nn\n",
    "import torch.nn.functional as F\n",
    "from torch.utils.data import DataLoader\n",
    "\n",
    "# Import torchvision\n",
    "import torchvision\n",
    "from torchvision import datasets\n",
    "from torchvision import transforms\n",
    "\n",
    "# for file system\n",
    "import os\n",
    "\n",
    "# Import matplotlib for visualization\n",
    "import matplotlib.pyplot as plt\n",
    "\n",
    "# for model evaluation\n",
    "from sklearn.metrics import confusion_matrix\n",
    "import pandas as pd\n",
    "import seaborn as sn\n",
    "import numpy as np\n",
    "\n",
    "# for randimization\n",
    "import random\n",
    "\n",
    "# type\n",
    "from typing import List , Dict , Tuple"
   ]
  },
  {
   "cell_type": "code",
   "execution_count": 3,
   "id": "3785491f",
   "metadata": {
    "execution": {
     "iopub.execute_input": "2024-02-04T14:41:11.282986Z",
     "iopub.status.busy": "2024-02-04T14:41:11.282485Z",
     "iopub.status.idle": "2024-02-04T14:41:11.366801Z",
     "shell.execute_reply": "2024-02-04T14:41:11.365716Z"
    },
    "executionInfo": {
     "elapsed": 5,
     "status": "ok",
     "timestamp": 1707054844606,
     "user": {
      "displayName": "Kannapat Thanapakdeechaikul",
      "userId": "03783122863211141133"
     },
     "user_tz": -420
    },
    "id": "ancdtY3Glk9C",
    "outputId": "c23c22d1-59e5-4e43-f7e7-81d5076f3a3d",
    "papermill": {
     "duration": 0.112691,
     "end_time": "2024-02-04T14:41:11.369201",
     "exception": false,
     "start_time": "2024-02-04T14:41:11.256510",
     "status": "completed"
    },
    "tags": []
   },
   "outputs": [
    {
     "data": {
      "text/plain": [
       "'cuda'"
      ]
     },
     "execution_count": 3,
     "metadata": {},
     "output_type": "execute_result"
    }
   ],
   "source": [
    "# Setup device agnostic code\n",
    "device = \"cuda\" if torch.cuda.is_available() else \"cpu\"\n",
    "device"
   ]
  },
  {
   "cell_type": "code",
   "execution_count": null,
   "id": "be4841ba",
   "metadata": {
    "execution": {
     "iopub.execute_input": "2024-02-04T14:41:11.478242Z",
     "iopub.status.busy": "2024-02-04T14:41:11.477810Z",
     "iopub.status.idle": "2024-02-04T14:41:11.486472Z",
     "shell.execute_reply": "2024-02-04T14:41:11.485552Z"
    },
    "executionInfo": {
     "elapsed": 4,
     "status": "ok",
     "timestamp": 1707054844606,
     "user": {
      "displayName": "Kannapat Thanapakdeechaikul",
      "userId": "03783122863211141133"
     },
     "user_tz": -420
    },
    "id": "kIRORa_xszBP",
    "papermill": {
     "duration": 0.036708,
     "end_time": "2024-02-04T14:41:11.488780",
     "exception": false,
     "start_time": "2024-02-04T14:41:11.452072",
     "status": "completed"
    },
    "tags": []
   },
   "outputs": [],
   "source": [
    "# transforms object to use in data augmentation\n",
    "\n",
    "mean, std = [0.4914, 0.4822, 0.4465], [0.247, 0.243, 0.261]\n",
    "\n",
    "data_transform = transforms.Compose([\n",
    "    transforms.RandomHorizontalFlip(p=0.5),\n",
    "    transforms.RandomRotation(20),\n",
    "    transforms.ColorJitter(brightness = 0.1,contrast = 0.1,saturation = 0.1),\n",
    "    transforms.RandomAdjustSharpness(sharpness_factor = 2,p = 0.2),\n",
    "    transforms.ToTensor() ,\n",
    "    transforms.Normalize(mean, std),\n",
    "    transforms.RandomErasing(p=0.75,scale=(0.02, 0.1),value=1.0, inplace=False)\n",
    "])"
   ]
  },
  {
   "cell_type": "code",
   "execution_count": 5,
   "id": "393e9057",
   "metadata": {
    "execution": {
     "iopub.execute_input": "2024-02-04T14:41:11.541235Z",
     "iopub.status.busy": "2024-02-04T14:41:11.540852Z",
     "iopub.status.idle": "2024-02-04T14:41:16.696340Z",
     "shell.execute_reply": "2024-02-04T14:41:16.695124Z"
    },
    "executionInfo": {
     "elapsed": 2946,
     "status": "ok",
     "timestamp": 1707054847549,
     "user": {
      "displayName": "Kannapat Thanapakdeechaikul",
      "userId": "03783122863211141133"
     },
     "user_tz": -420
    },
    "id": "US3hjUNZn6FT",
    "outputId": "7a64ea16-15c9-4134-d50c-8865bdbc1071",
    "papermill": {
     "duration": 5.184366,
     "end_time": "2024-02-04T14:41:16.698587",
     "exception": false,
     "start_time": "2024-02-04T14:41:11.514221",
     "status": "completed"
    },
    "tags": []
   },
   "outputs": [],
   "source": [
    "# Setup training data\n",
    "\n",
    "train_data = datasets.CIFAR10(\n",
    "    root=\"data\", # where to download data to?\n",
    "    train=True, # get training data\n",
    "    download=True, # download data if it doesn't exist on disk\n",
    "    transform=data_transform, # images come as PIL format, we want to turn into Torch tensors\n",
    "    target_transform=None # you can transform labels as well\n",
    ")\n",
    "\n",
    "# Setup testing data\n",
    "\n",
    "test_data = datasets.CIFAR10(\n",
    "    root=\"data\",\n",
    "    train=False, # get test data\n",
    "    download=True,\n",
    "    transform=data_transform\n",
    ")"
   ]
  },
  {
   "cell_type": "code",
   "execution_count": 6,
   "id": "a0ad8d56",
   "metadata": {
    "execution": {
     "iopub.execute_input": "2024-02-04T14:41:16.752992Z",
     "iopub.status.busy": "2024-02-04T14:41:16.752699Z",
     "iopub.status.idle": "2024-02-04T14:41:16.759001Z",
     "shell.execute_reply": "2024-02-04T14:41:16.758133Z"
    },
    "executionInfo": {
     "elapsed": 4,
     "status": "ok",
     "timestamp": 1707054847549,
     "user": {
      "displayName": "Kannapat Thanapakdeechaikul",
      "userId": "03783122863211141133"
     },
     "user_tz": -420
    },
    "id": "U7HTvdDSqZAl",
    "outputId": "2fd2f8a7-e488-4694-8696-61bd27d087c6",
    "papermill": {
     "duration": 0.035705,
     "end_time": "2024-02-04T14:41:16.760931",
     "exception": false,
     "start_time": "2024-02-04T14:41:16.725226",
     "status": "completed"
    },
    "tags": []
   },
   "outputs": [
    {
     "data": {
      "text/plain": [
       "['airplane',\n",
       " 'automobile',\n",
       " 'bird',\n",
       " 'cat',\n",
       " 'deer',\n",
       " 'dog',\n",
       " 'frog',\n",
       " 'horse',\n",
       " 'ship',\n",
       " 'truck']"
      ]
     },
     "execution_count": 6,
     "metadata": {},
     "output_type": "execute_result"
    }
   ],
   "source": [
    "#see classes\n",
    "\n",
    "class_names = train_data.classes\n",
    "\n",
    "class_names"
   ]
  },
  {
   "cell_type": "code",
   "execution_count": null,
   "id": "aacce99e",
   "metadata": {
    "execution": {
     "iopub.execute_input": "2024-02-04T14:41:16.815307Z",
     "iopub.status.busy": "2024-02-04T14:41:16.814743Z",
     "iopub.status.idle": "2024-02-04T14:41:18.114328Z",
     "shell.execute_reply": "2024-02-04T14:41:18.113422Z"
    },
    "executionInfo": {
     "elapsed": 1332,
     "status": "ok",
     "timestamp": 1707054848878,
     "user": {
      "displayName": "Kannapat Thanapakdeechaikul",
      "userId": "03783122863211141133"
     },
     "user_tz": -420
    },
    "id": "WOeiEC0KopVB",
    "outputId": "6ae411d0-5c08-4a63-c126-ca9f61615ad3",
    "papermill": {
     "duration": 1.330548,
     "end_time": "2024-02-04T14:41:18.117071",
     "exception": false,
     "start_time": "2024-02-04T14:41:16.786523",
     "status": "completed"
    },
    "tags": []
   },
   "outputs": [
    {
     "data": {
      "image/png": "[encoded data removed]",
      "text/plain": [
       "<Figure size 1000x1000 with 16 Axes>"
      ]
     },
     "metadata": {},
     "output_type": "display_data"
    }
   ],
   "source": [
    "\n",
    "rand_idx = random.sample(range(len(train_data)),k=16)\n",
    "\n",
    "plt.figure(figsize=(10,10))\n",
    "\n",
    "for i , idx in enumerate(rand_idx):\n",
    "\n",
    "  img , label = train_data[idx]\n",
    "\n",
    "  img = (img - img.min()) / (img.max() - img.min())\n",
    "\n",
    "  img_class = class_names[label]\n",
    "\n",
    "  plt.subplot(4,4,i+1)\n",
    "  plt.imshow(img.permute(1,2,0))\n",
    "  plt.title(f\"Class : {img_class}\",fontsize=10)\n",
    "  plt.axis(False)\n"
   ]
  },
  {
   "cell_type": "code",
   "execution_count": 8,
   "id": "52914a19",
   "metadata": {
    "execution": {
     "iopub.execute_input": "2024-02-04T14:41:18.227132Z",
     "iopub.status.busy": "2024-02-04T14:41:18.226784Z",
     "iopub.status.idle": "2024-02-04T14:41:18.232474Z",
     "shell.execute_reply": "2024-02-04T14:41:18.231611Z"
    },
    "executionInfo": {
     "elapsed": 9,
     "status": "ok",
     "timestamp": 1707054848878,
     "user": {
      "displayName": "Kannapat Thanapakdeechaikul",
      "userId": "03783122863211141133"
     },
     "user_tz": -420
    },
    "id": "r8ZHCOAoZft_",
    "papermill": {
     "duration": 0.035704,
     "end_time": "2024-02-04T14:41:18.234413",
     "exception": false,
     "start_time": "2024-02-04T14:41:18.198709",
     "status": "completed"
    },
    "tags": []
   },
   "outputs": [],
   "source": [
    "#load data into dataloader\n",
    "\n",
    "NUM_WORKERS = os.cpu_count()\n",
    "BATCH_SIZE = 800\n",
    "\n",
    "train_dataloader = DataLoader(dataset=train_data,\n",
    "                              batch_size=BATCH_SIZE,\n",
    "                              num_workers=NUM_WORKERS,\n",
    "                              shuffle=True)\n",
    "\n",
    "test_dataloader = DataLoader(dataset=test_data,\n",
    "                             batch_size=BATCH_SIZE,\n",
    "                             num_workers=NUM_WORKERS,\n",
    "                             shuffle=False)\n",
    "\n"
   ]
  },
  {
   "cell_type": "code",
   "execution_count": 9,
   "id": "5a4f80a9",
   "metadata": {
    "execution": {
     "iopub.execute_input": "2024-02-04T14:41:18.289351Z",
     "iopub.status.busy": "2024-02-04T14:41:18.288733Z",
     "iopub.status.idle": "2024-02-04T14:41:18.297124Z",
     "shell.execute_reply": "2024-02-04T14:41:18.296312Z"
    },
    "executionInfo": {
     "elapsed": 8,
     "status": "ok",
     "timestamp": 1707054848878,
     "user": {
      "displayName": "Kannapat Thanapakdeechaikul",
      "userId": "03783122863211141133"
     },
     "user_tz": -420
    },
    "id": "jnwUgCcx0pEE",
    "papermill": {
     "duration": 0.037801,
     "end_time": "2024-02-04T14:41:18.298931",
     "exception": false,
     "start_time": "2024-02-04T14:41:18.261130",
     "status": "completed"
    },
    "tags": []
   },
   "outputs": [],
   "source": [
    "# train loop function\n",
    "def train_step(model:nn.Module,\n",
    "               dataloader:torch.utils.data.DataLoader,\n",
    "               loss_fn:nn.Module,\n",
    "               optimizer:torch.optim.Optimizer,\n",
    "               scheduler:torch.optim.lr_scheduler = None,\n",
    "               grad_clip:float=None):\n",
    "\n",
    "  model.train()\n",
    "\n",
    "  train_loss , train_acc = 0 , 0\n",
    "\n",
    "  for batch , (X,y) in enumerate(dataloader):\n",
    "\n",
    "    X , y = X.to(device) , y.to(device)\n",
    "    y_pred = model(X)\n",
    "    loss = loss_fn(y_pred,y)\n",
    "    train_loss += loss.item()\n",
    "    optimizer.zero_grad()\n",
    "    loss.backward()\n",
    "\n",
    "    if grad_clip:\n",
    "      nn.utils.clip_grad_value_(model.parameters(), grad_clip)\n",
    "\n",
    "    optimizer.step()\n",
    "    y_pred_class = torch.argmax(y_pred,dim=1)\n",
    "    train_acc += (y_pred_class == y).sum().item() / len(y)\n",
    "\n",
    "  train_loss /= len(dataloader)\n",
    "  train_acc /= len(dataloader)\n",
    "\n",
    "  if scheduler is not None:\n",
    "    scheduler.step(train_loss)\n",
    "\n",
    "\n",
    "  return train_loss , train_acc"
   ]
  },
  {
   "cell_type": "code",
   "execution_count": 10,
   "id": "94d9cdee",
   "metadata": {
    "execution": {
     "iopub.execute_input": "2024-02-04T14:41:18.354296Z",
     "iopub.status.busy": "2024-02-04T14:41:18.354009Z",
     "iopub.status.idle": "2024-02-04T14:41:18.361015Z",
     "shell.execute_reply": "2024-02-04T14:41:18.360111Z"
    },
    "executionInfo": {
     "elapsed": 8,
     "status": "ok",
     "timestamp": 1707054848878,
     "user": {
      "displayName": "Kannapat Thanapakdeechaikul",
      "userId": "03783122863211141133"
     },
     "user_tz": -420
    },
    "id": "wk09fL7z0sQH",
    "papermill": {
     "duration": 0.037151,
     "end_time": "2024-02-04T14:41:18.362949",
     "exception": false,
     "start_time": "2024-02-04T14:41:18.325798",
     "status": "completed"
    },
    "tags": []
   },
   "outputs": [],
   "source": [
    "# test loop function\n",
    "def test_step(model:nn.Module,\n",
    "              dataloader:torch.utils.data.DataLoader,\n",
    "              loss_fn:nn.Module):\n",
    "\n",
    "  model.eval()\n",
    "\n",
    "  test_loss , test_acc = 0 , 0\n",
    "\n",
    "  with torch.inference_mode():\n",
    "    for batch , (X,y) in enumerate(dataloader):\n",
    "      X , y = X.to(device) , y.to(device)\n",
    "      test_pred_logits = model(X)\n",
    "      loss = loss_fn(test_pred_logits,y)\n",
    "      test_loss += loss.item()\n",
    "      test_pred_labels = torch.argmax(test_pred_logits,dim=1)\n",
    "      test_acc += (test_pred_labels == y).sum().item() / len(y)\n",
    "\n",
    "    test_loss /= len(dataloader)\n",
    "    test_acc /= len(dataloader)\n",
    "\n",
    "  return test_loss , test_acc"
   ]
  },
  {
   "cell_type": "code",
   "execution_count": 11,
   "id": "f8c3611b",
   "metadata": {
    "execution": {
     "iopub.execute_input": "2024-02-04T14:41:18.419737Z",
     "iopub.status.busy": "2024-02-04T14:41:18.419460Z",
     "iopub.status.idle": "2024-02-04T14:41:18.428592Z",
     "shell.execute_reply": "2024-02-04T14:41:18.427753Z"
    },
    "executionInfo": {
     "elapsed": 9,
     "status": "ok",
     "timestamp": 1707054848879,
     "user": {
      "displayName": "Kannapat Thanapakdeechaikul",
      "userId": "03783122863211141133"
     },
     "user_tz": -420
    },
    "id": "HB8pCKP70q42",
    "papermill": {
     "duration": 0.039607,
     "end_time": "2024-02-04T14:41:18.430369",
     "exception": false,
     "start_time": "2024-02-04T14:41:18.390762",
     "status": "completed"
    },
    "tags": []
   },
   "outputs": [
    {
     "name": "stderr",
     "output_type": "stream",
     "text": [
      "/home/dakshesh/Desktop/Projects/cifar10/myenv/lib/python3.12/site-packages/tqdm/auto.py:21: TqdmWarning: IProgress not found. Please update jupyter and ipywidgets. See https://ipywidgets.readthedocs.io/en/stable/user_install.html\n",
      "  from .autonotebook import tqdm as notebook_tqdm\n"
     ]
    }
   ],
   "source": [
    "#Creating a train() function to combine train_step() and test_step()\n",
    "\n",
    "from tqdm.auto import tqdm\n",
    "\n",
    "def train(model: torch.nn.Module,\n",
    "          train_dataloader: torch.utils.data.DataLoader,\n",
    "          test_dataloader: torch.utils.data.DataLoader,\n",
    "          optimizer: torch.optim.Optimizer,\n",
    "          scheduler:torch.optim.lr_scheduler,\n",
    "          grad_clip:float=None,\n",
    "          loss_fn: torch.nn.Module = nn.CrossEntropyLoss(),\n",
    "          epochs: int = 10):\n",
    "\n",
    "    results = {\"train_loss\": [],\n",
    "        \"train_acc\": [],\n",
    "        \"test_loss\": [],\n",
    "        \"test_acc\": []\n",
    "    }\n",
    "\n",
    "    for epoch in tqdm(range(epochs)):\n",
    "        train_loss, train_acc = train_step(model=model,\n",
    "                                           dataloader=train_dataloader,\n",
    "                                           loss_fn=loss_fn,\n",
    "                                           optimizer=optimizer,\n",
    "                                           scheduler=scheduler,\n",
    "                                           grad_clip=grad_clip)\n",
    "        test_loss, test_acc = test_step(model=model,\n",
    "            dataloader=test_dataloader,\n",
    "            loss_fn=loss_fn)\n",
    "\n",
    "\n",
    "        print(\n",
    "            f\"Epoch: {epoch+1} | \"\n",
    "            f\"train_loss: {train_loss:.4f} | \"\n",
    "            f\"train_acc: {train_acc:.4f} | \"\n",
    "            f\"test_loss: {test_loss:.4f} | \"\n",
    "            f\"test_acc: {test_acc:.4f}\"\n",
    "        )\n",
    "\n",
    "\n",
    "        results[\"train_loss\"].append(train_loss)\n",
    "        results[\"train_acc\"].append(train_acc)\n",
    "        results[\"test_loss\"].append(test_loss)\n",
    "        results[\"test_acc\"].append(test_acc)\n",
    "\n",
    "    return results"
   ]
  },
  {
   "cell_type": "code",
   "execution_count": 12,
   "id": "e1b1298f",
   "metadata": {
    "execution": {
     "iopub.execute_input": "2024-02-04T14:41:18.486924Z",
     "iopub.status.busy": "2024-02-04T14:41:18.486194Z",
     "iopub.status.idle": "2024-02-04T14:41:18.494216Z",
     "shell.execute_reply": "2024-02-04T14:41:18.493417Z"
    },
    "executionInfo": {
     "elapsed": 9,
     "status": "ok",
     "timestamp": 1707054848879,
     "user": {
      "displayName": "Kannapat Thanapakdeechaikul",
      "userId": "03783122863211141133"
     },
     "user_tz": -420
    },
    "id": "8UaQ8sR4NsOY",
    "papermill": {
     "duration": 0.038334,
     "end_time": "2024-02-04T14:41:18.496371",
     "exception": false,
     "start_time": "2024-02-04T14:41:18.458037",
     "status": "completed"
    },
    "tags": []
   },
   "outputs": [],
   "source": [
    "# function to plot loss & accuracy curve\n",
    "\n",
    "def plot_loss_curves(results: Dict[str, List[float]]):\n",
    "\n",
    "\n",
    "    # Get the loss values of the results dictionary (training and test)\n",
    "    loss = results['train_loss']\n",
    "    test_loss = results['test_loss']\n",
    "\n",
    "    # Get the accuracy values of the results dictionary (training and test)\n",
    "    accuracy = results['train_acc']\n",
    "    test_accuracy = results['test_acc']\n",
    "\n",
    "    # Figure out how many epochs there were\n",
    "    epochs = range(len(results['train_loss']))\n",
    "\n",
    "    # Setup a plot\n",
    "    plt.figure(figsize=(15, 7))\n",
    "\n",
    "    # Plot loss\n",
    "    plt.subplot(1, 2, 1)\n",
    "    plt.plot(epochs, loss, label='train_loss')\n",
    "    plt.plot(epochs, test_loss, label='test_loss')\n",
    "    plt.title('Loss')\n",
    "    plt.xlabel('Epochs')\n",
    "    plt.grid()\n",
    "    plt.legend()\n",
    "\n",
    "\n",
    "    # Plot accuracy\n",
    "    plt.subplot(1, 2, 2)\n",
    "    plt.plot(epochs, accuracy, label='train_accuracy')\n",
    "    plt.plot(epochs, test_accuracy, label='test_accuracy')\n",
    "    plt.title('Accuracy')\n",
    "    plt.xlabel('Epochs')\n",
    "    plt.grid()\n",
    "    plt.legend()"
   ]
  },
  {
   "cell_type": "markdown",
   "id": "18f7180b",
   "metadata": {
    "id": "GxkmoIQ1ywAu",
    "papermill": {
     "duration": 0.027839,
     "end_time": "2024-02-04T14:41:18.552227",
     "exception": false,
     "start_time": "2024-02-04T14:41:18.524388",
     "status": "completed"
    },
    "tags": []
   },
   "source": [
    "# **(tiny)VGG Model**\n",
    "\n",
    "The VGG model, short for Visual Geometry Group, is a deep convolutional neural network architecture proposed by researchers from the University of Oxford. It gained popularity for its simplicity and effectiveness in image recognition tasks, particularly in the ImageNet Large Scale Visual Recognition Challenge (ILSVRC) competition.The VGG architecture consists of multiple convolutional layers followed by max-pooling layers, with fully connected layers at the end for classification. The key characteristics of the VGG architecture are:\n",
    "\n",
    "* **Convolutional Layers:** The convolutional layers use small 3x3 filters with a stride of 1 and zero-padding to maintain the spatial resolution of the input feature maps. The depth of the feature maps increases as we go deeper into the network.\n",
    "* **Max Pooling Layers:** After each set of convolutional layers, max-pooling layers with a 2x2 window and a stride of 2 are applied to downsample the feature maps and reduce their spatial dimensions.\n",
    "* **Fully Connected Layers:** The final layers of the VGG architecture consist of fully connected layers, also known as dense layers, which take the flattened feature maps from the convolutional layers as input and produce the final output logits for classification.\n",
    "\n",
    "The TinyVGG class defines a simple convolutional neural network (CNN) architecture inspired by the VGG architecture, but with fewer layers and parameters.\n"
   ]
  },
  {
   "cell_type": "code",
   "execution_count": 13,
   "id": "dc807c0a",
   "metadata": {
    "execution": {
     "iopub.execute_input": "2024-02-04T14:41:18.607547Z",
     "iopub.status.busy": "2024-02-04T14:41:18.607288Z",
     "iopub.status.idle": "2024-02-04T14:41:18.617738Z",
     "shell.execute_reply": "2024-02-04T14:41:18.616965Z"
    },
    "executionInfo": {
     "elapsed": 8,
     "status": "ok",
     "timestamp": 1707054848879,
     "user": {
      "displayName": "Kannapat Thanapakdeechaikul",
      "userId": "03783122863211141133"
     },
     "user_tz": -420
    },
    "id": "NBHyzAAzcMFK",
    "papermill": {
     "duration": 0.040251,
     "end_time": "2024-02-04T14:41:18.619792",
     "exception": false,
     "start_time": "2024-02-04T14:41:18.579541",
     "status": "completed"
    },
    "tags": []
   },
   "outputs": [],
   "source": [
    "#build a model\n",
    "\n",
    "class TinyVGG(nn.Module):\n",
    "  def __init__(self, input_shape: int, output_shape: int) -> None:\n",
    "    super().__init__()\n",
    "    self.conv_block_1 = nn.Sequential(\n",
    "        nn.Conv2d(in_channels=input_shape,\n",
    "                  out_channels=32,\n",
    "                  kernel_size=3,\n",
    "                  stride=1,\n",
    "                  padding=1),\n",
    "        nn.ReLU(),\n",
    "        nn.Conv2d(in_channels=32,\n",
    "                  out_channels=32,\n",
    "                  kernel_size=3,\n",
    "                  stride=1,\n",
    "                  padding=1),\n",
    "        nn.ReLU(),\n",
    "        nn.MaxPool2d(kernel_size=2,\n",
    "                     stride=2)\n",
    "    )\n",
    "    self.conv_block_2 = nn.Sequential(\n",
    "        nn.Conv2d(in_channels=32,\n",
    "                  out_channels=64,\n",
    "                  kernel_size=3,\n",
    "                  stride=1,\n",
    "                  padding=1),\n",
    "        nn.ReLU(),\n",
    "        nn.Conv2d(in_channels=64,\n",
    "                  out_channels=64,\n",
    "                  kernel_size=3,\n",
    "                  stride=1,\n",
    "                  padding=1),\n",
    "        nn.ReLU(),\n",
    "        nn.MaxPool2d(kernel_size=2,\n",
    "                     stride=2)\n",
    "    )\n",
    "\n",
    "    self.classifier = nn.Sequential(\n",
    "        nn.Flatten(),\n",
    "        nn.Linear(in_features=64*8*8,out_features=2048),\n",
    "        nn.ReLU(),\n",
    "        nn.Dropout(p=0.5), #add dropout layer to decrease overfitting\n",
    "        nn.Linear(in_features=2048,out_features=1024),\n",
    "        nn.ReLU(),\n",
    "        nn.Dropout(p=0.5),\n",
    "        nn.Linear(in_features=1024,out_features=output_shape)\n",
    "    )\n",
    "\n",
    "\n",
    "\n",
    "  def forward(self, x: torch.Tensor):\n",
    "        x = self.conv_block_1(x)\n",
    "        x = self.conv_block_2(x)\n",
    "        x = self.classifier(x)\n",
    "        return x"
   ]
  },
  {
   "cell_type": "code",
   "execution_count": 14,
   "id": "31050f36",
   "metadata": {
    "execution": {
     "iopub.execute_input": "2024-02-04T14:41:18.676348Z",
     "iopub.status.busy": "2024-02-04T14:41:18.676090Z",
     "iopub.status.idle": "2024-02-04T14:41:19.617903Z",
     "shell.execute_reply": "2024-02-04T14:41:19.616852Z"
    },
    "executionInfo": {
     "elapsed": 8,
     "status": "ok",
     "timestamp": 1707054848879,
     "user": {
      "displayName": "Kannapat Thanapakdeechaikul",
      "userId": "03783122863211141133"
     },
     "user_tz": -420
    },
    "id": "OY22_Hhtpw6y",
    "outputId": "d42ba73a-ebba-44e6-ec39-c314155b6092",
    "papermill": {
     "duration": 0.971747,
     "end_time": "2024-02-04T14:41:19.620002",
     "exception": false,
     "start_time": "2024-02-04T14:41:18.648255",
     "status": "completed"
    },
    "tags": []
   },
   "outputs": [
    {
     "name": "stdout",
     "output_type": "stream",
     "text": [
      "Collecting torchinfo\n",
      "  Downloading torchinfo-1.8.0-py3-none-any.whl.metadata (21 kB)\n",
      "Downloading torchinfo-1.8.0-py3-none-any.whl (23 kB)\n",
      "Installing collected packages: torchinfo\n",
      "Successfully installed torchinfo-1.8.0\n",
      "Note: you may need to restart the kernel to use updated packages.\n"
     ]
    },
    {
     "data": {
      "text/plain": [
       "==========================================================================================\n",
       "Layer (type:depth-idx)                   Output Shape              Param #\n",
       "==========================================================================================\n",
       "TinyVGG                                  [1, 10]                   --\n",
       "├─Sequential: 1-1                        [1, 32, 16, 16]           --\n",
       "│    └─Conv2d: 2-1                       [1, 32, 32, 32]           896\n",
       "│    └─ReLU: 2-2                         [1, 32, 32, 32]           --\n",
       "│    └─Conv2d: 2-3                       [1, 32, 32, 32]           9,248\n",
       "│    └─ReLU: 2-4                         [1, 32, 32, 32]           --\n",
       "│    └─MaxPool2d: 2-5                    [1, 32, 16, 16]           --\n",
       "├─Sequential: 1-2                        [1, 64, 8, 8]             --\n",
       "│    └─Conv2d: 2-6                       [1, 64, 16, 16]           18,496\n",
       "│    └─ReLU: 2-7                         [1, 64, 16, 16]           --\n",
       "│    └─Conv2d: 2-8                       [1, 64, 16, 16]           36,928\n",
       "│    └─ReLU: 2-9                         [1, 64, 16, 16]           --\n",
       "│    └─MaxPool2d: 2-10                   [1, 64, 8, 8]             --\n",
       "├─Sequential: 1-3                        [1, 10]                   --\n",
       "│    └─Flatten: 2-11                     [1, 4096]                 --\n",
       "│    └─Linear: 2-12                      [1, 2048]                 8,390,656\n",
       "│    └─ReLU: 2-13                        [1, 2048]                 --\n",
       "│    └─Dropout: 2-14                     [1, 2048]                 --\n",
       "│    └─Linear: 2-15                      [1, 1024]                 2,098,176\n",
       "│    └─ReLU: 2-16                        [1, 1024]                 --\n",
       "│    └─Dropout: 2-17                     [1, 1024]                 --\n",
       "│    └─Linear: 2-18                      [1, 10]                   10,250\n",
       "==========================================================================================\n",
       "Total params: 10,564,650\n",
       "Trainable params: 10,564,650\n",
       "Non-trainable params: 0\n",
       "Total mult-adds (Units.MEGABYTES): 35.08\n",
       "==========================================================================================\n",
       "Input size (MB): 0.01\n",
       "Forward/backward pass size (MB): 0.81\n",
       "Params size (MB): 42.26\n",
       "Estimated Total Size (MB): 43.08\n",
       "=========================================================================================="
      ]
     },
     "execution_count": 14,
     "metadata": {},
     "output_type": "execute_result"
    }
   ],
   "source": [
    "# create model object\n",
    "try:\n",
    "  import torchinfo\n",
    "except:\n",
    "  %pip install torchinfo\n",
    "  import torchinfo\n",
    "\n",
    "from torchinfo import summary\n",
    "\n",
    "model_0 = TinyVGG(input_shape=3,\n",
    "                  output_shape=len(class_names)).to(device)\n",
    "\n",
    "#[batch_size,color_channels,width,height]\n",
    "summary(model_0, input_size=[1, 3, 32, 32])"
   ]
  },
  {
   "cell_type": "markdown",
   "id": "898263da",
   "metadata": {
    "id": "iLienu3X2CDu",
    "papermill": {
     "duration": 0.02804,
     "end_time": "2024-02-04T14:41:19.677451",
     "exception": false,
     "start_time": "2024-02-04T14:41:19.649411",
     "status": "completed"
    },
    "tags": []
   },
   "source": [
    "# **Model Training**\n",
    "\n",
    "## Hyperparameters Explanation\n",
    "\n",
    "### 1. Epoch\n",
    "\n",
    "- `NUM_EPOCHS` specifies the number of epochs, i.e., the number of times the entire training dataset is passed through the neural network during training. Choosing a suitable number of epochs ensures that the model has sufficient opportunity to learn from the data without overfitting or underfitting.\n",
    "\n",
    "### 2. Learning rate\n",
    "\n",
    "- `learning_rate` determines the step size at which the optimizer updates the model's parameters during training. A higher learning rate allows for faster convergence but may risk overshooting the optimal solution, while a lower learning rate may lead to slower convergence but better stability. The value of 0.002 is chosen empirically based on experimentation and learning rate schedules.\n",
    "\n",
    "### 3. Weight decay\n",
    "\n",
    "- `weight_decay`, also known as L2 regularization, penalizes large weights in the model's parameters to prevent overfitting. It helps in controlling model complexity and improving generalization performance. The value of 15e-5 is chosen to strike a balance between regularization strength and model performance based on empirical observations.\n",
    "\n",
    "### 4. Gradient clipping\n",
    "\n",
    "- Gradient clipping (`grad_clip`) is a technique used to mitigate the exploding gradient problem during training by capping the gradients to a predefined threshold. This helps stabilize the training process and prevent numerical instability.\n",
    "\n",
    "### 5. Loss Function and Optimizer\n",
    "\n",
    "- `loss_fn = nn.CrossEntropyLoss()` The cross-entropy loss function is commonly used for classification tasks with multiple classes. It measures the discrepancy between the predicted class probabilities and the true labels.\n",
    "  \n",
    "- `optimizer = torch.optim.Adam(...)` Adam optimizer is a popular choice for training neural networks due to its adaptive learning rate capabilities and momentum. The learning rate and weight decay parameters specified here determine the optimization behavior.\n",
    "\n",
    "### 6. Learning Rate Scheduler\n",
    "\n",
    "- `scheduler = torch.optim.lr_scheduler.ReduceLROnPlateau(...)` Learning rate schedulers dynamically adjust the learning rate during training based on certain criteria. The ReduceLROnPlateau scheduler reduces the learning rate when a monitored metric (e.g., validation loss) stops improving, helping the model converge more effectively.\n"
   ]
  },
  {
   "cell_type": "code",
   "execution_count": 16,
   "id": "2ec5da0c",
   "metadata": {
    "execution": {
     "iopub.execute_input": "2024-02-04T14:41:19.735240Z",
     "iopub.status.busy": "2024-02-04T14:41:19.734885Z",
     "iopub.status.idle": "2024-02-04T14:53:47.001852Z",
     "shell.execute_reply": "2024-02-04T14:53:47.000614Z"
    },
    "executionInfo": {
     "elapsed": 366128,
     "status": "ok",
     "timestamp": 1707055215000,
     "user": {
      "displayName": "Kannapat Thanapakdeechaikul",
      "userId": "03783122863211141133"
     },
     "user_tz": -420
    },
    "id": "sUODYYiz1_BJ",
    "outputId": "1564b1c5-b5ae-4752-f787-73e7a6a21e03",
    "papermill": {
     "duration": 747.332686,
     "end_time": "2024-02-04T14:53:47.038825",
     "exception": false,
     "start_time": "2024-02-04T14:41:19.706139",
     "status": "completed"
    },
    "tags": []
   },
   "outputs": [
    {
     "name": "stderr",
     "output_type": "stream",
     "text": [
      "  3%|▎         | 1/30 [00:06<03:16,  6.77s/it]"
     ]
    },
    {
     "name": "stdout",
     "output_type": "stream",
     "text": [
      "Epoch: 1 | train_loss: 1.8858 | train_acc: 0.3118 | test_loss: 1.6088 | test_acc: 0.4180\n"
     ]
    },
    {
     "name": "stderr",
     "output_type": "stream",
     "text": [
      "  7%|▋         | 2/30 [00:13<03:03,  6.55s/it]"
     ]
    },
    {
     "name": "stdout",
     "output_type": "stream",
     "text": [
      "Epoch: 2 | train_loss: 1.5893 | train_acc: 0.4232 | test_loss: 1.4927 | test_acc: 0.4592\n"
     ]
    },
    {
     "name": "stderr",
     "output_type": "stream",
     "text": [
      " 10%|█         | 3/30 [00:19<02:56,  6.54s/it]"
     ]
    },
    {
     "name": "stdout",
     "output_type": "stream",
     "text": [
      "Epoch: 3 | train_loss: 1.4719 | train_acc: 0.4696 | test_loss: 1.3625 | test_acc: 0.5045\n"
     ]
    },
    {
     "name": "stderr",
     "output_type": "stream",
     "text": [
      " 13%|█▎        | 4/30 [00:26<02:49,  6.52s/it]"
     ]
    },
    {
     "name": "stdout",
     "output_type": "stream",
     "text": [
      "Epoch: 4 | train_loss: 1.3762 | train_acc: 0.5037 | test_loss: 1.2809 | test_acc: 0.5379\n"
     ]
    },
    {
     "name": "stderr",
     "output_type": "stream",
     "text": [
      " 17%|█▋        | 5/30 [00:32<02:42,  6.48s/it]"
     ]
    },
    {
     "name": "stdout",
     "output_type": "stream",
     "text": [
      "Epoch: 5 | train_loss: 1.3006 | train_acc: 0.5336 | test_loss: 1.2450 | test_acc: 0.5520\n"
     ]
    },
    {
     "name": "stderr",
     "output_type": "stream",
     "text": [
      " 20%|██        | 6/30 [00:39<02:35,  6.48s/it]"
     ]
    },
    {
     "name": "stdout",
     "output_type": "stream",
     "text": [
      "Epoch: 6 | train_loss: 1.2502 | train_acc: 0.5512 | test_loss: 1.1655 | test_acc: 0.5746\n"
     ]
    },
    {
     "name": "stderr",
     "output_type": "stream",
     "text": [
      " 23%|██▎       | 7/30 [00:45<02:29,  6.49s/it]"
     ]
    },
    {
     "name": "stdout",
     "output_type": "stream",
     "text": [
      "Epoch: 7 | train_loss: 1.2124 | train_acc: 0.5666 | test_loss: 1.1328 | test_acc: 0.5969\n"
     ]
    },
    {
     "name": "stderr",
     "output_type": "stream",
     "text": [
      " 27%|██▋       | 8/30 [00:52<02:22,  6.47s/it]"
     ]
    },
    {
     "name": "stdout",
     "output_type": "stream",
     "text": [
      "Epoch: 8 | train_loss: 1.1833 | train_acc: 0.5781 | test_loss: 1.0996 | test_acc: 0.6112\n"
     ]
    },
    {
     "name": "stderr",
     "output_type": "stream",
     "text": [
      " 30%|███       | 9/30 [00:58<02:15,  6.45s/it]"
     ]
    },
    {
     "name": "stdout",
     "output_type": "stream",
     "text": [
      "Epoch: 9 | train_loss: 1.1365 | train_acc: 0.5946 | test_loss: 1.0577 | test_acc: 0.6238\n"
     ]
    },
    {
     "name": "stderr",
     "output_type": "stream",
     "text": [
      " 33%|███▎      | 10/30 [01:04<02:09,  6.47s/it]"
     ]
    },
    {
     "name": "stdout",
     "output_type": "stream",
     "text": [
      "Epoch: 10 | train_loss: 1.1083 | train_acc: 0.6059 | test_loss: 1.0414 | test_acc: 0.6257\n"
     ]
    },
    {
     "name": "stderr",
     "output_type": "stream",
     "text": [
      " 37%|███▋      | 11/30 [01:11<02:03,  6.48s/it]"
     ]
    },
    {
     "name": "stdout",
     "output_type": "stream",
     "text": [
      "Epoch: 11 | train_loss: 1.0792 | train_acc: 0.6175 | test_loss: 1.0404 | test_acc: 0.6288\n"
     ]
    },
    {
     "name": "stderr",
     "output_type": "stream",
     "text": [
      " 40%|████      | 12/30 [01:17<01:56,  6.47s/it]"
     ]
    },
    {
     "name": "stdout",
     "output_type": "stream",
     "text": [
      "Epoch: 12 | train_loss: 1.0531 | train_acc: 0.6263 | test_loss: 0.9979 | test_acc: 0.6467\n"
     ]
    },
    {
     "name": "stderr",
     "output_type": "stream",
     "text": [
      " 43%|████▎     | 13/30 [01:24<01:50,  6.48s/it]"
     ]
    },
    {
     "name": "stdout",
     "output_type": "stream",
     "text": [
      "Epoch: 13 | train_loss: 1.0260 | train_acc: 0.6395 | test_loss: 0.9598 | test_acc: 0.6619\n"
     ]
    },
    {
     "name": "stderr",
     "output_type": "stream",
     "text": [
      " 47%|████▋     | 14/30 [01:30<01:43,  6.46s/it]"
     ]
    },
    {
     "name": "stdout",
     "output_type": "stream",
     "text": [
      "Epoch: 14 | train_loss: 0.9894 | train_acc: 0.6492 | test_loss: 0.9256 | test_acc: 0.6776\n"
     ]
    },
    {
     "name": "stderr",
     "output_type": "stream",
     "text": [
      " 50%|█████     | 15/30 [01:37<01:36,  6.47s/it]"
     ]
    },
    {
     "name": "stdout",
     "output_type": "stream",
     "text": [
      "Epoch: 15 | train_loss: 0.9844 | train_acc: 0.6557 | test_loss: 0.9464 | test_acc: 0.6672\n"
     ]
    },
    {
     "name": "stderr",
     "output_type": "stream",
     "text": [
      " 53%|█████▎    | 16/30 [01:43<01:30,  6.48s/it]"
     ]
    },
    {
     "name": "stdout",
     "output_type": "stream",
     "text": [
      "Epoch: 16 | train_loss: 0.9669 | train_acc: 0.6585 | test_loss: 0.9342 | test_acc: 0.6752\n"
     ]
    },
    {
     "name": "stderr",
     "output_type": "stream",
     "text": [
      " 57%|█████▋    | 17/30 [01:50<01:24,  6.48s/it]"
     ]
    },
    {
     "name": "stdout",
     "output_type": "stream",
     "text": [
      "Epoch: 17 | train_loss: 0.9505 | train_acc: 0.6632 | test_loss: 0.9177 | test_acc: 0.6760\n"
     ]
    },
    {
     "name": "stderr",
     "output_type": "stream",
     "text": [
      " 60%|██████    | 18/30 [01:56<01:17,  6.47s/it]"
     ]
    },
    {
     "name": "stdout",
     "output_type": "stream",
     "text": [
      "Epoch: 18 | train_loss: 0.8685 | train_acc: 0.6950 | test_loss: 0.8366 | test_acc: 0.7058\n"
     ]
    },
    {
     "name": "stderr",
     "output_type": "stream",
     "text": [
      " 63%|██████▎   | 19/30 [02:03<01:11,  6.47s/it]"
     ]
    },
    {
     "name": "stdout",
     "output_type": "stream",
     "text": [
      "Epoch: 19 | train_loss: 0.8271 | train_acc: 0.7079 | test_loss: 0.8050 | test_acc: 0.7159\n"
     ]
    },
    {
     "name": "stderr",
     "output_type": "stream",
     "text": [
      " 67%|██████▋   | 20/30 [02:09<01:04,  6.47s/it]"
     ]
    },
    {
     "name": "stdout",
     "output_type": "stream",
     "text": [
      "Epoch: 20 | train_loss: 0.8166 | train_acc: 0.7140 | test_loss: 0.8108 | test_acc: 0.7177\n"
     ]
    },
    {
     "name": "stderr",
     "output_type": "stream",
     "text": [
      " 70%|███████   | 21/30 [02:16<00:58,  6.48s/it]"
     ]
    },
    {
     "name": "stdout",
     "output_type": "stream",
     "text": [
      "Epoch: 21 | train_loss: 0.7990 | train_acc: 0.7205 | test_loss: 0.7946 | test_acc: 0.7162\n"
     ]
    },
    {
     "name": "stderr",
     "output_type": "stream",
     "text": [
      " 73%|███████▎  | 22/30 [02:22<00:52,  6.50s/it]"
     ]
    },
    {
     "name": "stdout",
     "output_type": "stream",
     "text": [
      "Epoch: 22 | train_loss: 0.7918 | train_acc: 0.7203 | test_loss: 0.8029 | test_acc: 0.7126\n"
     ]
    },
    {
     "name": "stderr",
     "output_type": "stream",
     "text": [
      " 77%|███████▋  | 23/30 [02:29<00:45,  6.51s/it]"
     ]
    },
    {
     "name": "stdout",
     "output_type": "stream",
     "text": [
      "Epoch: 23 | train_loss: 0.7658 | train_acc: 0.7307 | test_loss: 0.7785 | test_acc: 0.7228\n"
     ]
    },
    {
     "name": "stderr",
     "output_type": "stream",
     "text": [
      " 80%|████████  | 24/30 [02:35<00:39,  6.50s/it]"
     ]
    },
    {
     "name": "stdout",
     "output_type": "stream",
     "text": [
      "Epoch: 24 | train_loss: 0.7507 | train_acc: 0.7344 | test_loss: 0.7787 | test_acc: 0.7253\n"
     ]
    },
    {
     "name": "stderr",
     "output_type": "stream",
     "text": [
      " 83%|████████▎ | 25/30 [02:42<00:32,  6.50s/it]"
     ]
    },
    {
     "name": "stdout",
     "output_type": "stream",
     "text": [
      "Epoch: 25 | train_loss: 0.7449 | train_acc: 0.7363 | test_loss: 0.7620 | test_acc: 0.7338\n"
     ]
    },
    {
     "name": "stderr",
     "output_type": "stream",
     "text": [
      " 87%|████████▋ | 26/30 [02:48<00:26,  6.50s/it]"
     ]
    },
    {
     "name": "stdout",
     "output_type": "stream",
     "text": [
      "Epoch: 26 | train_loss: 0.7367 | train_acc: 0.7398 | test_loss: 0.7575 | test_acc: 0.7282\n"
     ]
    },
    {
     "name": "stderr",
     "output_type": "stream",
     "text": [
      " 90%|█████████ | 27/30 [02:55<00:19,  6.50s/it]"
     ]
    },
    {
     "name": "stdout",
     "output_type": "stream",
     "text": [
      "Epoch: 27 | train_loss: 0.7311 | train_acc: 0.7421 | test_loss: 0.7517 | test_acc: 0.7363\n"
     ]
    },
    {
     "name": "stderr",
     "output_type": "stream",
     "text": [
      " 93%|█████████▎| 28/30 [03:01<00:12,  6.50s/it]"
     ]
    },
    {
     "name": "stdout",
     "output_type": "stream",
     "text": [
      "Epoch: 28 | train_loss: 0.7211 | train_acc: 0.7460 | test_loss: 0.7531 | test_acc: 0.7326\n"
     ]
    },
    {
     "name": "stderr",
     "output_type": "stream",
     "text": [
      " 97%|█████████▋| 29/30 [03:08<00:06,  6.50s/it]"
     ]
    },
    {
     "name": "stdout",
     "output_type": "stream",
     "text": [
      "Epoch: 29 | train_loss: 0.7209 | train_acc: 0.7479 | test_loss: 0.7414 | test_acc: 0.7404\n"
     ]
    },
    {
     "name": "stderr",
     "output_type": "stream",
     "text": [
      "100%|██████████| 30/30 [03:14<00:00,  6.49s/it]"
     ]
    },
    {
     "name": "stdout",
     "output_type": "stream",
     "text": [
      "Epoch: 30 | train_loss: 0.7216 | train_acc: 0.7457 | test_loss: 0.7458 | test_acc: 0.7372\n",
      "Total training time: 194.685 seconds\n"
     ]
    },
    {
     "name": "stderr",
     "output_type": "stream",
     "text": [
      "\n"
     ]
    }
   ],
   "source": [
    "# Let's train\n",
    "NUM_EPOCHS = 30\n",
    "learning_rate = 0.001\n",
    "weight_decay = 15e-5\n",
    "grad_clip = 0.001\n",
    "\n",
    "loss_fn = nn.CrossEntropyLoss()\n",
    "\n",
    "optimizer = torch.optim.Adam(model_0.parameters(),lr=learning_rate,weight_decay=weight_decay)\n",
    "\n",
    "scheduler = torch.optim.lr_scheduler.ReduceLROnPlateau(optimizer=optimizer,mode='min',factor=0.3,patience=3,threshold=0.09)\n",
    "\n",
    "\n",
    "from timeit import default_timer as timer\n",
    "start_time = timer()\n",
    "\n",
    "\n",
    "model_0_results = train(model=model_0,\n",
    "                        train_dataloader=train_dataloader,\n",
    "                        test_dataloader=test_dataloader,\n",
    "                        optimizer=optimizer,\n",
    "                        scheduler=scheduler,\n",
    "                        grad_clip=grad_clip,\n",
    "                        loss_fn=loss_fn,\n",
    "                        epochs=NUM_EPOCHS)\n",
    "\n",
    "\n",
    "end_time = timer()\n",
    "print(f\"Total training time: {end_time-start_time:.3f} seconds\")"
   ]
  },
  {
   "cell_type": "code",
   "execution_count": 17,
   "id": "b0f811d4",
   "metadata": {
    "execution": {
     "iopub.execute_input": "2024-02-04T14:53:47.107621Z",
     "iopub.status.busy": "2024-02-04T14:53:47.106770Z",
     "iopub.status.idle": "2024-02-04T14:53:47.690713Z",
     "shell.execute_reply": "2024-02-04T14:53:47.689771Z"
    },
    "executionInfo": {
     "elapsed": 8,
     "status": "ok",
     "timestamp": 1707055215000,
     "user": {
      "displayName": "Kannapat Thanapakdeechaikul",
      "userId": "03783122863211141133"
     },
     "user_tz": -420
    },
    "id": "QRf3SFCSO51u",
    "outputId": "2ccbac2e-c349-4493-a8e9-831a4d7b6467",
    "papermill": {
     "duration": 0.620494,
     "end_time": "2024-02-04T14:53:47.693326",
     "exception": false,
     "start_time": "2024-02-04T14:53:47.072832",
     "status": "completed"
    },
    "tags": []
   },
   "outputs": [
    {
     "data": {
      "image/png": "[encoded data removed]",
      "text/plain": [
       "<Figure size 1500x700 with 2 Axes>"
      ]
     },
     "metadata": {},
     "output_type": "display_data"
    }
   ],
   "source": [
    "plot_loss_curves(model_0_results)"
   ]
  },
  {
   "cell_type": "code",
   "execution_count": 18,
   "id": "fa57e792",
   "metadata": {
    "execution": {
     "iopub.execute_input": "2024-02-04T14:53:47.829706Z",
     "iopub.status.busy": "2024-02-04T14:53:47.829351Z",
     "iopub.status.idle": "2024-02-04T14:53:47.841297Z",
     "shell.execute_reply": "2024-02-04T14:53:47.840363Z"
    },
    "executionInfo": {
     "elapsed": 6,
     "status": "ok",
     "timestamp": 1707055215000,
     "user": {
      "displayName": "Kannapat Thanapakdeechaikul",
      "userId": "03783122863211141133"
     },
     "user_tz": -420
    },
    "id": "2A5YBZSo8qhO",
    "papermill": {
     "duration": 0.048939,
     "end_time": "2024-02-04T14:53:47.843326",
     "exception": false,
     "start_time": "2024-02-04T14:53:47.794387",
     "status": "completed"
    },
    "tags": []
   },
   "outputs": [],
   "source": [
    "# create Resnet model class\n",
    "\n",
    "class ResNet9(nn.Module):\n",
    "    def conv_block(self,in_channels, out_channels, pool=False):\n",
    "      layers = [nn.Conv2d(in_channels, out_channels, kernel_size=3, padding=1),\n",
    "                nn.BatchNorm2d(out_channels),\n",
    "                nn.ReLU(inplace=True)]\n",
    "      if pool: layers.append(nn.MaxPool2d(2))\n",
    "      return nn.Sequential(*layers)\n",
    "\n",
    "    def __init__(self, in_channels, num_classes):\n",
    "        super().__init__()\n",
    "\n",
    "        self.conv1 = self.conv_block(in_channels, 64)\n",
    "        self.conv2 = self.conv_block(64, 128, pool=True)\n",
    "        self.res1 = nn.Sequential(self.conv_block(128, 128), self.conv_block(128, 128))\n",
    "\n",
    "        self.conv3 = self.conv_block(128, 256, pool=True)\n",
    "        self.conv4 = self.conv_block(256, 512, pool=True)\n",
    "        self.res2 = nn.Sequential(self.conv_block(512, 512), self.conv_block(512, 512))\n",
    "\n",
    "        self.classifier = nn.Sequential(nn.MaxPool2d(4),\n",
    "                                        nn.Flatten(),\n",
    "                                        nn.Linear(512, num_classes))\n",
    "\n",
    "    def forward(self, x):\n",
    "        out = self.conv1(x)\n",
    "        out = self.conv2(out)\n",
    "        out = self.res1(out) + out\n",
    "        out = self.conv3(out)\n",
    "        out = self.conv4(out)\n",
    "        out = self.res2(out) + out\n",
    "        out = self.classifier(out)\n",
    "        return out"
   ]
  },
  {
   "cell_type": "code",
   "execution_count": 19,
   "id": "047d9c4f",
   "metadata": {
    "execution": {
     "iopub.execute_input": "2024-02-04T14:53:47.913440Z",
     "iopub.status.busy": "2024-02-04T14:53:47.913128Z",
     "iopub.status.idle": "2024-02-04T14:53:48.060389Z",
     "shell.execute_reply": "2024-02-04T14:53:48.059430Z"
    },
    "executionInfo": {
     "elapsed": 600,
     "status": "ok",
     "timestamp": 1707055215594,
     "user": {
      "displayName": "Kannapat Thanapakdeechaikul",
      "userId": "03783122863211141133"
     },
     "user_tz": -420
    },
    "id": "evphi4I-8ssK",
    "outputId": "379c6ebe-5834-4067-a886-404ade405434",
    "papermill": {
     "duration": 0.185405,
     "end_time": "2024-02-04T14:53:48.062484",
     "exception": false,
     "start_time": "2024-02-04T14:53:47.877079",
     "status": "completed"
    },
    "tags": []
   },
   "outputs": [
    {
     "data": {
      "text/plain": [
       "==========================================================================================\n",
       "Layer (type:depth-idx)                   Output Shape              Param #\n",
       "==========================================================================================\n",
       "ResNet9                                  [1, 10]                   --\n",
       "├─Sequential: 1-1                        [1, 64, 32, 32]           --\n",
       "│    └─Conv2d: 2-1                       [1, 64, 32, 32]           1,792\n",
       "│    └─BatchNorm2d: 2-2                  [1, 64, 32, 32]           128\n",
       "│    └─ReLU: 2-3                         [1, 64, 32, 32]           --\n",
       "├─Sequential: 1-2                        [1, 128, 16, 16]          --\n",
       "│    └─Conv2d: 2-4                       [1, 128, 32, 32]          73,856\n",
       "│    └─BatchNorm2d: 2-5                  [1, 128, 32, 32]          256\n",
       "│    └─ReLU: 2-6                         [1, 128, 32, 32]          --\n",
       "│    └─MaxPool2d: 2-7                    [1, 128, 16, 16]          --\n",
       "├─Sequential: 1-3                        [1, 128, 16, 16]          --\n",
       "│    └─Sequential: 2-8                   [1, 128, 16, 16]          --\n",
       "│    │    └─Conv2d: 3-1                  [1, 128, 16, 16]          147,584\n",
       "│    │    └─BatchNorm2d: 3-2             [1, 128, 16, 16]          256\n",
       "│    │    └─ReLU: 3-3                    [1, 128, 16, 16]          --\n",
       "│    └─Sequential: 2-9                   [1, 128, 16, 16]          --\n",
       "│    │    └─Conv2d: 3-4                  [1, 128, 16, 16]          147,584\n",
       "│    │    └─BatchNorm2d: 3-5             [1, 128, 16, 16]          256\n",
       "│    │    └─ReLU: 3-6                    [1, 128, 16, 16]          --\n",
       "├─Sequential: 1-4                        [1, 256, 8, 8]            --\n",
       "│    └─Conv2d: 2-10                      [1, 256, 16, 16]          295,168\n",
       "│    └─BatchNorm2d: 2-11                 [1, 256, 16, 16]          512\n",
       "│    └─ReLU: 2-12                        [1, 256, 16, 16]          --\n",
       "│    └─MaxPool2d: 2-13                   [1, 256, 8, 8]            --\n",
       "├─Sequential: 1-5                        [1, 512, 4, 4]            --\n",
       "│    └─Conv2d: 2-14                      [1, 512, 8, 8]            1,180,160\n",
       "│    └─BatchNorm2d: 2-15                 [1, 512, 8, 8]            1,024\n",
       "│    └─ReLU: 2-16                        [1, 512, 8, 8]            --\n",
       "│    └─MaxPool2d: 2-17                   [1, 512, 4, 4]            --\n",
       "├─Sequential: 1-6                        [1, 512, 4, 4]            --\n",
       "│    └─Sequential: 2-18                  [1, 512, 4, 4]            --\n",
       "│    │    └─Conv2d: 3-7                  [1, 512, 4, 4]            2,359,808\n",
       "│    │    └─BatchNorm2d: 3-8             [1, 512, 4, 4]            1,024\n",
       "│    │    └─ReLU: 3-9                    [1, 512, 4, 4]            --\n",
       "│    └─Sequential: 2-19                  [1, 512, 4, 4]            --\n",
       "│    │    └─Conv2d: 3-10                 [1, 512, 4, 4]            2,359,808\n",
       "│    │    └─BatchNorm2d: 3-11            [1, 512, 4, 4]            1,024\n",
       "│    │    └─ReLU: 3-12                   [1, 512, 4, 4]            --\n",
       "├─Sequential: 1-7                        [1, 10]                   --\n",
       "│    └─MaxPool2d: 2-20                   [1, 512, 1, 1]            --\n",
       "│    └─Flatten: 2-21                     [1, 512]                  --\n",
       "│    └─Linear: 2-22                      [1, 10]                   5,130\n",
       "==========================================================================================\n",
       "Total params: 6,575,370\n",
       "Trainable params: 6,575,370\n",
       "Non-trainable params: 0\n",
       "Total mult-adds (Units.MEGABYTES): 379.64\n",
       "==========================================================================================\n",
       "Input size (MB): 0.01\n",
       "Forward/backward pass size (MB): 6.03\n",
       "Params size (MB): 26.30\n",
       "Estimated Total Size (MB): 32.34\n",
       "=========================================================================================="
      ]
     },
     "execution_count": 19,
     "metadata": {},
     "output_type": "execute_result"
    }
   ],
   "source": [
    "# create model object\n",
    "try:\n",
    "  import torchinfo\n",
    "except:\n",
    "  !pip install torchinfo\n",
    "  import torchinfo\n",
    "\n",
    "from torchinfo import summary\n",
    "\n",
    "model_2 = ResNet9(3,10).to(device)\n",
    "\n",
    "#[batch_size,color_channels,width,height]\n",
    "summary(model_2, input_size=[1, 3, 32, 32])"
   ]
  },
  {
   "cell_type": "code",
   "execution_count": 21,
   "id": "82b38761",
   "metadata": {
    "execution": {
     "iopub.execute_input": "2024-02-04T14:53:48.129828Z",
     "iopub.status.busy": "2024-02-04T14:53:48.129498Z",
     "iopub.status.idle": "2024-02-04T15:07:59.292042Z",
     "shell.execute_reply": "2024-02-04T15:07:59.291087Z"
    },
    "executionInfo": {
     "elapsed": 774609,
     "status": "ok",
     "timestamp": 1707055990197,
     "user": {
      "displayName": "Kannapat Thanapakdeechaikul",
      "userId": "03783122863211141133"
     },
     "user_tz": -420
    },
    "id": "fyz8EZHE8-VM",
    "outputId": "2be80986-f18f-410f-e49f-29c955e08ace",
    "papermill": {
     "duration": 851.235837,
     "end_time": "2024-02-04T15:07:59.330591",
     "exception": false,
     "start_time": "2024-02-04T14:53:48.094754",
     "status": "completed"
    },
    "tags": []
   },
   "outputs": [
    {
     "name": "stderr",
     "output_type": "stream",
     "text": [
      "  3%|▎         | 1/30 [00:25<12:29, 25.83s/it]"
     ]
    },
    {
     "name": "stdout",
     "output_type": "stream",
     "text": [
      "Epoch: 1 | train_loss: 1.5872 | train_acc: 0.4496 | test_loss: 1.1983 | test_acc: 0.5676\n"
     ]
    },
    {
     "name": "stderr",
     "output_type": "stream",
     "text": [
      "  7%|▋         | 2/30 [00:51<12:04, 25.89s/it]"
     ]
    },
    {
     "name": "stdout",
     "output_type": "stream",
     "text": [
      "Epoch: 2 | train_loss: 1.0395 | train_acc: 0.6314 | test_loss: 1.1690 | test_acc: 0.5898\n"
     ]
    },
    {
     "name": "stderr",
     "output_type": "stream",
     "text": [
      " 10%|█         | 3/30 [01:17<11:37, 25.84s/it]"
     ]
    },
    {
     "name": "stdout",
     "output_type": "stream",
     "text": [
      "Epoch: 3 | train_loss: 0.8731 | train_acc: 0.6946 | test_loss: 0.9757 | test_acc: 0.6584\n"
     ]
    },
    {
     "name": "stderr",
     "output_type": "stream",
     "text": [
      " 13%|█▎        | 4/30 [01:43<11:12, 25.86s/it]"
     ]
    },
    {
     "name": "stdout",
     "output_type": "stream",
     "text": [
      "Epoch: 4 | train_loss: 0.7764 | train_acc: 0.7292 | test_loss: 0.9691 | test_acc: 0.6569\n"
     ]
    },
    {
     "name": "stderr",
     "output_type": "stream",
     "text": [
      " 17%|█▋        | 5/30 [02:09<10:48, 25.94s/it]"
     ]
    },
    {
     "name": "stdout",
     "output_type": "stream",
     "text": [
      "Epoch: 5 | train_loss: 0.7345 | train_acc: 0.7462 | test_loss: 0.9263 | test_acc: 0.6796\n"
     ]
    },
    {
     "name": "stderr",
     "output_type": "stream",
     "text": [
      " 20%|██        | 6/30 [02:35<10:22, 25.92s/it]"
     ]
    },
    {
     "name": "stdout",
     "output_type": "stream",
     "text": [
      "Epoch: 6 | train_loss: 0.6810 | train_acc: 0.7670 | test_loss: 1.1786 | test_acc: 0.5832\n"
     ]
    },
    {
     "name": "stderr",
     "output_type": "stream",
     "text": [
      " 23%|██▎       | 7/30 [03:01<09:55, 25.90s/it]"
     ]
    },
    {
     "name": "stdout",
     "output_type": "stream",
     "text": [
      "Epoch: 7 | train_loss: 0.6510 | train_acc: 0.7779 | test_loss: 0.9437 | test_acc: 0.6707\n"
     ]
    },
    {
     "name": "stderr",
     "output_type": "stream",
     "text": [
      " 27%|██▋       | 8/30 [03:27<09:29, 25.89s/it]"
     ]
    },
    {
     "name": "stdout",
     "output_type": "stream",
     "text": [
      "Epoch: 8 | train_loss: 0.6255 | train_acc: 0.7879 | test_loss: 0.9889 | test_acc: 0.6621\n"
     ]
    },
    {
     "name": "stderr",
     "output_type": "stream",
     "text": [
      " 30%|███       | 9/30 [03:53<09:03, 25.89s/it]"
     ]
    },
    {
     "name": "stdout",
     "output_type": "stream",
     "text": [
      "Epoch: 9 | train_loss: 0.6021 | train_acc: 0.7949 | test_loss: 0.9094 | test_acc: 0.6911\n"
     ]
    },
    {
     "name": "stderr",
     "output_type": "stream",
     "text": [
      " 33%|███▎      | 10/30 [04:18<08:37, 25.86s/it]"
     ]
    },
    {
     "name": "stdout",
     "output_type": "stream",
     "text": [
      "Epoch: 10 | train_loss: 0.5955 | train_acc: 0.7975 | test_loss: 1.1659 | test_acc: 0.6139\n"
     ]
    },
    {
     "name": "stderr",
     "output_type": "stream",
     "text": [
      " 37%|███▋      | 11/30 [04:44<08:11, 25.87s/it]"
     ]
    },
    {
     "name": "stdout",
     "output_type": "stream",
     "text": [
      "Epoch: 11 | train_loss: 0.5878 | train_acc: 0.8016 | test_loss: 1.0166 | test_acc: 0.6400\n"
     ]
    },
    {
     "name": "stderr",
     "output_type": "stream",
     "text": [
      " 40%|████      | 12/30 [05:10<07:45, 25.87s/it]"
     ]
    },
    {
     "name": "stdout",
     "output_type": "stream",
     "text": [
      "Epoch: 12 | train_loss: 0.5777 | train_acc: 0.8049 | test_loss: 0.7874 | test_acc: 0.7248\n"
     ]
    },
    {
     "name": "stderr",
     "output_type": "stream",
     "text": [
      " 43%|████▎     | 13/30 [05:36<07:19, 25.85s/it]"
     ]
    },
    {
     "name": "stdout",
     "output_type": "stream",
     "text": [
      "Epoch: 13 | train_loss: 0.5700 | train_acc: 0.8065 | test_loss: 1.0516 | test_acc: 0.6331\n"
     ]
    },
    {
     "name": "stderr",
     "output_type": "stream",
     "text": [
      " 47%|████▋     | 14/30 [06:02<06:53, 25.86s/it]"
     ]
    },
    {
     "name": "stdout",
     "output_type": "stream",
     "text": [
      "Epoch: 14 | train_loss: 0.4428 | train_acc: 0.8528 | test_loss: 0.5672 | test_acc: 0.8051\n"
     ]
    },
    {
     "name": "stderr",
     "output_type": "stream",
     "text": [
      " 50%|█████     | 15/30 [06:28<06:27, 25.86s/it]"
     ]
    },
    {
     "name": "stdout",
     "output_type": "stream",
     "text": [
      "Epoch: 15 | train_loss: 0.3913 | train_acc: 0.8683 | test_loss: 0.6724 | test_acc: 0.7724\n"
     ]
    },
    {
     "name": "stderr",
     "output_type": "stream",
     "text": [
      " 53%|█████▎    | 16/30 [06:53<06:01, 25.84s/it]"
     ]
    },
    {
     "name": "stdout",
     "output_type": "stream",
     "text": [
      "Epoch: 16 | train_loss: 0.3708 | train_acc: 0.8777 | test_loss: 0.6038 | test_acc: 0.7902\n"
     ]
    },
    {
     "name": "stderr",
     "output_type": "stream",
     "text": [
      " 57%|█████▋    | 17/30 [07:19<05:36, 25.85s/it]"
     ]
    },
    {
     "name": "stdout",
     "output_type": "stream",
     "text": [
      "Epoch: 17 | train_loss: 0.3540 | train_acc: 0.8845 | test_loss: 0.5373 | test_acc: 0.8141\n"
     ]
    },
    {
     "name": "stderr",
     "output_type": "stream",
     "text": [
      " 60%|██████    | 18/30 [07:45<05:10, 25.85s/it]"
     ]
    },
    {
     "name": "stdout",
     "output_type": "stream",
     "text": [
      "Epoch: 18 | train_loss: 0.3441 | train_acc: 0.8857 | test_loss: 0.5620 | test_acc: 0.8039\n"
     ]
    },
    {
     "name": "stderr",
     "output_type": "stream",
     "text": [
      " 63%|██████▎   | 19/30 [08:11<04:44, 25.87s/it]"
     ]
    },
    {
     "name": "stdout",
     "output_type": "stream",
     "text": [
      "Epoch: 19 | train_loss: 0.3369 | train_acc: 0.8900 | test_loss: 0.5687 | test_acc: 0.8061\n"
     ]
    },
    {
     "name": "stderr",
     "output_type": "stream",
     "text": [
      " 67%|██████▋   | 20/30 [08:37<04:18, 25.87s/it]"
     ]
    },
    {
     "name": "stdout",
     "output_type": "stream",
     "text": [
      "Epoch: 20 | train_loss: 0.3281 | train_acc: 0.8912 | test_loss: 0.5810 | test_acc: 0.8019\n"
     ]
    },
    {
     "name": "stderr",
     "output_type": "stream",
     "text": [
      " 70%|███████   | 21/30 [09:03<03:52, 25.89s/it]"
     ]
    },
    {
     "name": "stdout",
     "output_type": "stream",
     "text": [
      "Epoch: 21 | train_loss: 0.3244 | train_acc: 0.8932 | test_loss: 0.5395 | test_acc: 0.8194\n"
     ]
    },
    {
     "name": "stderr",
     "output_type": "stream",
     "text": [
      " 73%|███████▎  | 22/30 [09:29<03:26, 25.86s/it]"
     ]
    },
    {
     "name": "stdout",
     "output_type": "stream",
     "text": [
      "Epoch: 22 | train_loss: 0.2566 | train_acc: 0.9185 | test_loss: 0.4057 | test_acc: 0.8622\n"
     ]
    },
    {
     "name": "stderr",
     "output_type": "stream",
     "text": [
      " 77%|███████▋  | 23/30 [09:55<03:01, 25.87s/it]"
     ]
    },
    {
     "name": "stdout",
     "output_type": "stream",
     "text": [
      "Epoch: 23 | train_loss: 0.2269 | train_acc: 0.9287 | test_loss: 0.3859 | test_acc: 0.8695\n"
     ]
    },
    {
     "name": "stderr",
     "output_type": "stream",
     "text": [
      " 80%|████████  | 24/30 [10:20<02:35, 25.89s/it]"
     ]
    },
    {
     "name": "stdout",
     "output_type": "stream",
     "text": [
      "Epoch: 24 | train_loss: 0.2165 | train_acc: 0.9318 | test_loss: 0.3876 | test_acc: 0.8661\n"
     ]
    },
    {
     "name": "stderr",
     "output_type": "stream",
     "text": [
      " 83%|████████▎ | 25/30 [10:46<02:09, 25.85s/it]"
     ]
    },
    {
     "name": "stdout",
     "output_type": "stream",
     "text": [
      "Epoch: 25 | train_loss: 0.2090 | train_acc: 0.9346 | test_loss: 0.3792 | test_acc: 0.8716\n"
     ]
    },
    {
     "name": "stderr",
     "output_type": "stream",
     "text": [
      " 87%|████████▋ | 26/30 [11:12<01:43, 25.84s/it]"
     ]
    },
    {
     "name": "stdout",
     "output_type": "stream",
     "text": [
      "Epoch: 26 | train_loss: 0.1988 | train_acc: 0.9377 | test_loss: 0.3710 | test_acc: 0.8735\n"
     ]
    },
    {
     "name": "stderr",
     "output_type": "stream",
     "text": [
      " 90%|█████████ | 27/30 [11:38<01:17, 25.86s/it]"
     ]
    },
    {
     "name": "stdout",
     "output_type": "stream",
     "text": [
      "Epoch: 27 | train_loss: 0.1909 | train_acc: 0.9409 | test_loss: 0.3908 | test_acc: 0.8663\n"
     ]
    },
    {
     "name": "stderr",
     "output_type": "stream",
     "text": [
      " 93%|█████████▎| 28/30 [12:04<00:51, 25.86s/it]"
     ]
    },
    {
     "name": "stdout",
     "output_type": "stream",
     "text": [
      "Epoch: 28 | train_loss: 0.1828 | train_acc: 0.9444 | test_loss: 0.3881 | test_acc: 0.8674\n"
     ]
    },
    {
     "name": "stderr",
     "output_type": "stream",
     "text": [
      " 97%|█████████▋| 29/30 [12:30<00:25, 25.88s/it]"
     ]
    },
    {
     "name": "stdout",
     "output_type": "stream",
     "text": [
      "Epoch: 29 | train_loss: 0.1804 | train_acc: 0.9451 | test_loss: 0.3789 | test_acc: 0.8698\n"
     ]
    },
    {
     "name": "stderr",
     "output_type": "stream",
     "text": [
      "100%|██████████| 30/30 [12:56<00:00, 25.87s/it]"
     ]
    },
    {
     "name": "stdout",
     "output_type": "stream",
     "text": [
      "Epoch: 30 | train_loss: 0.1714 | train_acc: 0.9479 | test_loss: 0.4386 | test_acc: 0.8536\n",
      "Total training time: 776.150 seconds\n"
     ]
    },
    {
     "name": "stderr",
     "output_type": "stream",
     "text": [
      "\n"
     ]
    }
   ],
   "source": [
    "# Let's train\n",
    "NUM_EPOCHS = 30\n",
    "learning_rate = 0.001\n",
    "weight_decay = 35e-5\n",
    "grad_clip = 1e-4\n",
    "\n",
    "loss_fn = nn.CrossEntropyLoss()\n",
    "\n",
    "optimizer = torch.optim.Adam(model_2.parameters(),lr=learning_rate,weight_decay=weight_decay)\n",
    "\n",
    "scheduler = torch.optim.lr_scheduler.ReduceLROnPlateau(optimizer=optimizer,mode='min',factor=0.3,patience=3,threshold=0.09)\n",
    "\n",
    "\n",
    "from timeit import default_timer as timer\n",
    "start_time = timer()\n",
    "\n",
    "\n",
    "model_2_results = train(model=model_2,\n",
    "                        train_dataloader=train_dataloader,\n",
    "                        test_dataloader=test_dataloader,\n",
    "                        optimizer=optimizer,\n",
    "                        scheduler=scheduler,\n",
    "                        grad_clip=grad_clip,\n",
    "                        loss_fn=loss_fn,\n",
    "                        epochs=NUM_EPOCHS)\n",
    "\n",
    "\n",
    "end_time = timer()\n",
    "print(f\"Total training time: {end_time-start_time:.3f} seconds\")"
   ]
  },
  {
   "cell_type": "code",
   "execution_count": 22,
   "id": "c286f28c",
   "metadata": {
    "execution": {
     "iopub.execute_input": "2024-02-04T15:07:59.402239Z",
     "iopub.status.busy": "2024-02-04T15:07:59.401858Z",
     "iopub.status.idle": "2024-02-04T15:07:59.992201Z",
     "shell.execute_reply": "2024-02-04T15:07:59.991244Z"
    },
    "executionInfo": {
     "elapsed": 7,
     "status": "ok",
     "timestamp": 1707055990198,
     "user": {
      "displayName": "Kannapat Thanapakdeechaikul",
      "userId": "03783122863211141133"
     },
     "user_tz": -420
    },
    "id": "g2QJZXz-9RWc",
    "outputId": "f0a07d9a-6283-4c8a-f930-b06fa43d2926",
    "papermill": {
     "duration": 0.628545,
     "end_time": "2024-02-04T15:07:59.994775",
     "exception": false,
     "start_time": "2024-02-04T15:07:59.366230",
     "status": "completed"
    },
    "tags": []
   },
   "outputs": [
    {
     "data": {
      "image/png": "[encoded data removed]",
      "text/plain": [
       "<Figure size 1500x700 with 2 Axes>"
      ]
     },
     "metadata": {},
     "output_type": "display_data"
    }
   ],
   "source": [
    "plot_loss_curves(model_2_results)"
   ]
  },
  {
   "cell_type": "markdown",
   "id": "899f8afe",
   "metadata": {
    "id": "Yvw9eNYo7tjR",
    "papermill": {
     "duration": 0.035319,
     "end_time": "2024-02-04T15:08:00.068374",
     "exception": false,
     "start_time": "2024-02-04T15:08:00.033055",
     "status": "completed"
    },
    "tags": []
   },
   "source": [
    "# **Model Evaluation**\n",
    "\n",
    "Resnet Model appears to be better than TinyVGG Model due to its higher accuracy, faster convergence speed, and slightly better generalization performance. However, both results show an instability in loss and accuracy, which is a result from small batch size. The smaller batch size increase stochasticity in the optimization process,which can help the model escape local minima but introduce more noise.\n",
    "\n",
    "So let's train Resnet model more, before we use it for prediction."
   ]
  },
  {
   "cell_type": "code",
   "execution_count": 23,
   "id": "61609e0e",
   "metadata": {
    "execution": {
     "iopub.execute_input": "2024-02-04T15:08:00.142049Z",
     "iopub.status.busy": "2024-02-04T15:08:00.141717Z",
     "iopub.status.idle": "2024-02-04T15:22:32.266238Z",
     "shell.execute_reply": "2024-02-04T15:22:32.265180Z"
    },
    "executionInfo": {
     "elapsed": 774320,
     "status": "ok",
     "timestamp": 1707056764513,
     "user": {
      "displayName": "Kannapat Thanapakdeechaikul",
      "userId": "03783122863211141133"
     },
     "user_tz": -420
    },
    "id": "QzBVZ-zfFwoi",
    "outputId": "449b1c01-7382-4b21-bbdc-c8e27cbb3181",
    "papermill": {
     "duration": 872.205742,
     "end_time": "2024-02-04T15:22:32.310669",
     "exception": false,
     "start_time": "2024-02-04T15:08:00.104927",
     "status": "completed"
    },
    "tags": []
   },
   "outputs": [
    {
     "name": "stderr",
     "output_type": "stream",
     "text": [
      "  3%|▎         | 1/30 [00:25<12:27, 25.79s/it]"
     ]
    },
    {
     "name": "stdout",
     "output_type": "stream",
     "text": [
      "Epoch: 1 | train_loss: 0.1692 | train_acc: 0.9487 | test_loss: 0.3719 | test_acc: 0.8750\n"
     ]
    },
    {
     "name": "stderr",
     "output_type": "stream",
     "text": [
      "  7%|▋         | 2/30 [00:51<12:03, 25.82s/it]"
     ]
    },
    {
     "name": "stdout",
     "output_type": "stream",
     "text": [
      "Epoch: 2 | train_loss: 0.1636 | train_acc: 0.9513 | test_loss: 0.3566 | test_acc: 0.8808\n"
     ]
    },
    {
     "name": "stderr",
     "output_type": "stream",
     "text": [
      " 10%|█         | 3/30 [01:17<11:38, 25.85s/it]"
     ]
    },
    {
     "name": "stdout",
     "output_type": "stream",
     "text": [
      "Epoch: 3 | train_loss: 0.1587 | train_acc: 0.9511 | test_loss: 0.3696 | test_acc: 0.8751\n"
     ]
    },
    {
     "name": "stderr",
     "output_type": "stream",
     "text": [
      " 13%|█▎        | 4/30 [01:43<11:12, 25.86s/it]"
     ]
    },
    {
     "name": "stdout",
     "output_type": "stream",
     "text": [
      "Epoch: 4 | train_loss: 0.1553 | train_acc: 0.9538 | test_loss: 0.4879 | test_acc: 0.8387\n"
     ]
    },
    {
     "name": "stderr",
     "output_type": "stream",
     "text": [
      " 17%|█▋        | 5/30 [02:09<10:46, 25.85s/it]"
     ]
    },
    {
     "name": "stdout",
     "output_type": "stream",
     "text": [
      "Epoch: 5 | train_loss: 0.1527 | train_acc: 0.9551 | test_loss: 0.4109 | test_acc: 0.8611\n"
     ]
    },
    {
     "name": "stderr",
     "output_type": "stream",
     "text": [
      " 20%|██        | 6/30 [02:35<10:20, 25.85s/it]"
     ]
    },
    {
     "name": "stdout",
     "output_type": "stream",
     "text": [
      "Epoch: 6 | train_loss: 0.1505 | train_acc: 0.9546 | test_loss: 0.3812 | test_acc: 0.8688\n"
     ]
    },
    {
     "name": "stderr",
     "output_type": "stream",
     "text": [
      " 23%|██▎       | 7/30 [03:00<09:54, 25.87s/it]"
     ]
    },
    {
     "name": "stdout",
     "output_type": "stream",
     "text": [
      "Epoch: 7 | train_loss: 0.1191 | train_acc: 0.9670 | test_loss: 0.3311 | test_acc: 0.8872\n"
     ]
    },
    {
     "name": "stderr",
     "output_type": "stream",
     "text": [
      " 27%|██▋       | 8/30 [03:26<09:28, 25.86s/it]"
     ]
    },
    {
     "name": "stdout",
     "output_type": "stream",
     "text": [
      "Epoch: 8 | train_loss: 0.1120 | train_acc: 0.9695 | test_loss: 0.3233 | test_acc: 0.8934\n"
     ]
    },
    {
     "name": "stderr",
     "output_type": "stream",
     "text": [
      " 30%|███       | 9/30 [03:52<09:02, 25.85s/it]"
     ]
    },
    {
     "name": "stdout",
     "output_type": "stream",
     "text": [
      "Epoch: 9 | train_loss: 0.1073 | train_acc: 0.9717 | test_loss: 0.3244 | test_acc: 0.8934\n"
     ]
    },
    {
     "name": "stderr",
     "output_type": "stream",
     "text": [
      " 33%|███▎      | 10/30 [04:18<08:37, 25.86s/it]"
     ]
    },
    {
     "name": "stdout",
     "output_type": "stream",
     "text": [
      "Epoch: 10 | train_loss: 0.1052 | train_acc: 0.9721 | test_loss: 0.3236 | test_acc: 0.8922\n"
     ]
    },
    {
     "name": "stderr",
     "output_type": "stream",
     "text": [
      " 37%|███▋      | 11/30 [04:44<08:11, 25.85s/it]"
     ]
    },
    {
     "name": "stdout",
     "output_type": "stream",
     "text": [
      "Epoch: 11 | train_loss: 0.1001 | train_acc: 0.9734 | test_loss: 0.3192 | test_acc: 0.8982\n"
     ]
    },
    {
     "name": "stderr",
     "output_type": "stream",
     "text": [
      " 40%|████      | 12/30 [05:10<07:45, 25.84s/it]"
     ]
    },
    {
     "name": "stdout",
     "output_type": "stream",
     "text": [
      "Epoch: 12 | train_loss: 0.0973 | train_acc: 0.9739 | test_loss: 0.3159 | test_acc: 0.8926\n"
     ]
    },
    {
     "name": "stderr",
     "output_type": "stream",
     "text": [
      " 43%|████▎     | 13/30 [05:35<07:18, 25.82s/it]"
     ]
    },
    {
     "name": "stdout",
     "output_type": "stream",
     "text": [
      "Epoch: 13 | train_loss: 0.0957 | train_acc: 0.9749 | test_loss: 0.3182 | test_acc: 0.8917\n"
     ]
    },
    {
     "name": "stderr",
     "output_type": "stream",
     "text": [
      " 47%|████▋     | 14/30 [06:01<06:52, 25.81s/it]"
     ]
    },
    {
     "name": "stdout",
     "output_type": "stream",
     "text": [
      "Epoch: 14 | train_loss: 0.0933 | train_acc: 0.9762 | test_loss: 0.3118 | test_acc: 0.8960\n"
     ]
    },
    {
     "name": "stderr",
     "output_type": "stream",
     "text": [
      " 50%|█████     | 15/30 [06:27<06:27, 25.80s/it]"
     ]
    },
    {
     "name": "stdout",
     "output_type": "stream",
     "text": [
      "Epoch: 15 | train_loss: 0.0911 | train_acc: 0.9765 | test_loss: 0.3248 | test_acc: 0.8934\n"
     ]
    },
    {
     "name": "stderr",
     "output_type": "stream",
     "text": [
      " 53%|█████▎    | 16/30 [06:53<06:01, 25.81s/it]"
     ]
    },
    {
     "name": "stdout",
     "output_type": "stream",
     "text": [
      "Epoch: 16 | train_loss: 0.0877 | train_acc: 0.9775 | test_loss: 0.3311 | test_acc: 0.8905\n"
     ]
    },
    {
     "name": "stderr",
     "output_type": "stream",
     "text": [
      " 57%|█████▋    | 17/30 [07:19<05:35, 25.83s/it]"
     ]
    },
    {
     "name": "stdout",
     "output_type": "stream",
     "text": [
      "Epoch: 17 | train_loss: 0.0868 | train_acc: 0.9775 | test_loss: 0.3283 | test_acc: 0.8895\n"
     ]
    },
    {
     "name": "stderr",
     "output_type": "stream",
     "text": [
      " 60%|██████    | 18/30 [07:45<05:09, 25.81s/it]"
     ]
    },
    {
     "name": "stdout",
     "output_type": "stream",
     "text": [
      "Epoch: 18 | train_loss: 0.0858 | train_acc: 0.9774 | test_loss: 0.3320 | test_acc: 0.8871\n"
     ]
    },
    {
     "name": "stderr",
     "output_type": "stream",
     "text": [
      " 63%|██████▎   | 19/30 [08:10<04:44, 25.82s/it]"
     ]
    },
    {
     "name": "stdout",
     "output_type": "stream",
     "text": [
      "Epoch: 19 | train_loss: 0.0845 | train_acc: 0.9787 | test_loss: 0.3269 | test_acc: 0.8916\n"
     ]
    },
    {
     "name": "stderr",
     "output_type": "stream",
     "text": [
      " 67%|██████▋   | 20/30 [08:36<04:18, 25.81s/it]"
     ]
    },
    {
     "name": "stdout",
     "output_type": "stream",
     "text": [
      "Epoch: 20 | train_loss: 0.0813 | train_acc: 0.9795 | test_loss: 0.3243 | test_acc: 0.8944\n"
     ]
    },
    {
     "name": "stderr",
     "output_type": "stream",
     "text": [
      " 70%|███████   | 21/30 [09:02<03:52, 25.83s/it]"
     ]
    },
    {
     "name": "stdout",
     "output_type": "stream",
     "text": [
      "Epoch: 21 | train_loss: 0.0740 | train_acc: 0.9824 | test_loss: 0.3111 | test_acc: 0.8979\n"
     ]
    },
    {
     "name": "stderr",
     "output_type": "stream",
     "text": [
      " 73%|███████▎  | 22/30 [09:28<03:26, 25.87s/it]"
     ]
    },
    {
     "name": "stdout",
     "output_type": "stream",
     "text": [
      "Epoch: 22 | train_loss: 0.0715 | train_acc: 0.9830 | test_loss: 0.3081 | test_acc: 0.8959\n"
     ]
    },
    {
     "name": "stderr",
     "output_type": "stream",
     "text": [
      " 77%|███████▋  | 23/30 [09:54<03:00, 25.85s/it]"
     ]
    },
    {
     "name": "stdout",
     "output_type": "stream",
     "text": [
      "Epoch: 23 | train_loss: 0.0700 | train_acc: 0.9837 | test_loss: 0.3022 | test_acc: 0.8980\n"
     ]
    },
    {
     "name": "stderr",
     "output_type": "stream",
     "text": [
      " 80%|████████  | 24/30 [10:20<02:35, 25.87s/it]"
     ]
    },
    {
     "name": "stdout",
     "output_type": "stream",
     "text": [
      "Epoch: 24 | train_loss: 0.0685 | train_acc: 0.9847 | test_loss: 0.3031 | test_acc: 0.8976\n"
     ]
    },
    {
     "name": "stderr",
     "output_type": "stream",
     "text": [
      " 83%|████████▎ | 25/30 [10:46<02:09, 25.88s/it]"
     ]
    },
    {
     "name": "stdout",
     "output_type": "stream",
     "text": [
      "Epoch: 25 | train_loss: 0.0677 | train_acc: 0.9845 | test_loss: 0.3007 | test_acc: 0.9010\n"
     ]
    },
    {
     "name": "stderr",
     "output_type": "stream",
     "text": [
      " 87%|████████▋ | 26/30 [11:12<01:43, 25.89s/it]"
     ]
    },
    {
     "name": "stdout",
     "output_type": "stream",
     "text": [
      "Epoch: 26 | train_loss: 0.0664 | train_acc: 0.9844 | test_loss: 0.3088 | test_acc: 0.8961\n"
     ]
    },
    {
     "name": "stderr",
     "output_type": "stream",
     "text": [
      " 90%|█████████ | 27/30 [11:37<01:17, 25.87s/it]"
     ]
    },
    {
     "name": "stdout",
     "output_type": "stream",
     "text": [
      "Epoch: 27 | train_loss: 0.0671 | train_acc: 0.9848 | test_loss: 0.3012 | test_acc: 0.9004\n"
     ]
    },
    {
     "name": "stderr",
     "output_type": "stream",
     "text": [
      " 93%|█████████▎| 28/30 [12:03<00:51, 25.84s/it]"
     ]
    },
    {
     "name": "stdout",
     "output_type": "stream",
     "text": [
      "Epoch: 28 | train_loss: 0.0636 | train_acc: 0.9857 | test_loss: 0.3059 | test_acc: 0.9015\n"
     ]
    },
    {
     "name": "stderr",
     "output_type": "stream",
     "text": [
      " 97%|█████████▋| 29/30 [12:29<00:25, 25.86s/it]"
     ]
    },
    {
     "name": "stdout",
     "output_type": "stream",
     "text": [
      "Epoch: 29 | train_loss: 0.0648 | train_acc: 0.9845 | test_loss: 0.2945 | test_acc: 0.9026\n"
     ]
    },
    {
     "name": "stderr",
     "output_type": "stream",
     "text": [
      "100%|██████████| 30/30 [12:55<00:00, 25.85s/it]"
     ]
    },
    {
     "name": "stdout",
     "output_type": "stream",
     "text": [
      "Epoch: 30 | train_loss: 0.0638 | train_acc: 0.9858 | test_loss: 0.3012 | test_acc: 0.8986\n",
      "Total training time: 775.360 seconds\n"
     ]
    },
    {
     "name": "stderr",
     "output_type": "stream",
     "text": [
      "\n"
     ]
    }
   ],
   "source": [
    "# more training iterations\n",
    "\n",
    "NUM_EPOCHS = 30\n",
    "\n",
    "from timeit import default_timer as timer\n",
    "start_time = timer()\n",
    "\n",
    "\n",
    "model_2_results_exten = train(model=model_2,\n",
    "                        train_dataloader=train_dataloader,\n",
    "                        test_dataloader=test_dataloader,\n",
    "                        optimizer=optimizer,\n",
    "                        scheduler=scheduler,\n",
    "                        grad_clip=grad_clip,\n",
    "                        loss_fn=loss_fn,\n",
    "                        epochs=NUM_EPOCHS)\n",
    "\n",
    "\n",
    "end_time = timer()\n",
    "print(f\"Total training time: {end_time-start_time:.3f} seconds\")"
   ]
  },
  {
   "cell_type": "code",
   "execution_count": 24,
   "id": "85c224e4",
   "metadata": {
    "execution": {
     "iopub.execute_input": "2024-02-04T15:22:32.388404Z",
     "iopub.status.busy": "2024-02-04T15:22:32.387986Z",
     "iopub.status.idle": "2024-02-04T15:22:32.393114Z",
     "shell.execute_reply": "2024-02-04T15:22:32.392252Z"
    },
    "executionInfo": {
     "elapsed": 44,
     "status": "ok",
     "timestamp": 1707056764513,
     "user": {
      "displayName": "Kannapat Thanapakdeechaikul",
      "userId": "03783122863211141133"
     },
     "user_tz": -420
    },
    "id": "PRgiIs_bL55U",
    "papermill": {
     "duration": 0.046026,
     "end_time": "2024-02-04T15:22:32.395107",
     "exception": false,
     "start_time": "2024-02-04T15:22:32.349081",
     "status": "completed"
    },
    "tags": []
   },
   "outputs": [],
   "source": [
    "# merge 2 results\n",
    "\n",
    "for key in model_2_results.keys():\n",
    "  model_2_results[key].extend(model_2_results_exten[key])"
   ]
  },
  {
   "cell_type": "code",
   "execution_count": 25,
   "id": "f8150882",
   "metadata": {
    "execution": {
     "iopub.execute_input": "2024-02-04T15:22:32.477075Z",
     "iopub.status.busy": "2024-02-04T15:22:32.476267Z",
     "iopub.status.idle": "2024-02-04T15:22:33.064963Z",
     "shell.execute_reply": "2024-02-04T15:22:33.064108Z"
    },
    "executionInfo": {
     "elapsed": 11,
     "status": "ok",
     "timestamp": 1707056764514,
     "user": {
      "displayName": "Kannapat Thanapakdeechaikul",
      "userId": "03783122863211141133"
     },
     "user_tz": -420
    },
    "id": "iWMTAK3CYrje",
    "outputId": "0aee5602-76a4-4962-90d2-a5ec69263501",
    "papermill": {
     "duration": 0.631659,
     "end_time": "2024-02-04T15:22:33.067494",
     "exception": false,
     "start_time": "2024-02-04T15:22:32.435835",
     "status": "completed"
    },
    "tags": []
   },
   "outputs": [
    {
     "data": {
      "image/png": "[encoded data removed]",
      "text/plain": [
       "<Figure size 1500x700 with 2 Axes>"
      ]
     },
     "metadata": {},
     "output_type": "display_data"
    }
   ],
   "source": [
    "plot_loss_curves(model_2_results)"
   ]
  },
  {
   "cell_type": "code",
   "execution_count": 26,
   "id": "2365834f",
   "metadata": {
    "execution": {
     "iopub.execute_input": "2024-02-04T15:22:33.156305Z",
     "iopub.status.busy": "2024-02-04T15:22:33.155852Z",
     "iopub.status.idle": "2024-02-04T15:23:09.516467Z",
     "shell.execute_reply": "2024-02-04T15:23:09.515293Z"
    },
    "executionInfo": {
     "elapsed": 29732,
     "status": "ok",
     "timestamp": 1707056794239,
     "user": {
      "displayName": "Kannapat Thanapakdeechaikul",
      "userId": "03783122863211141133"
     },
     "user_tz": -420
    },
    "id": "hpipzb7wJvI5",
    "outputId": "afa7ef0b-0fdf-4e96-e9eb-02321a21b808",
    "papermill": {
     "duration": 36.407926,
     "end_time": "2024-02-04T15:23:09.519214",
     "exception": false,
     "start_time": "2024-02-04T15:22:33.111288",
     "status": "completed"
    },
    "tags": []
   },
   "outputs": [
    {
     "data": {
      "text/plain": [
       "<Axes: >"
      ]
     },
     "execution_count": 26,
     "metadata": {},
     "output_type": "execute_result"
    },
    {
     "data": {
      "image/png": "[encoded data removed]",
      "text/plain": [
       "<Figure size 1200x700 with 2 Axes>"
      ]
     },
     "metadata": {},
     "output_type": "display_data"
    }
   ],
   "source": [
    "## Try predicting images with our model\n",
    "\n",
    "y_pred = []\n",
    "y_true = []\n",
    "\n",
    "model_2.eval()\n",
    "\n",
    "with torch.inference_mode():\n",
    "  for X, y in DataLoader(dataset=test_data,batch_size=1,num_workers=NUM_WORKERS):\n",
    "    X , y = X.to(device) , y.to(device)\n",
    "    pred_logits = model_2(X)\n",
    "    pred = pred_logits.argmax(dim=1).cpu().numpy()\n",
    "    y_pred.extend(pred)\n",
    "    true = y.cpu().numpy()\n",
    "    y_true.extend(true)\n",
    "\n",
    "cf_matrix = confusion_matrix(y_true,y_pred)\n",
    "df_cm = pd.DataFrame(cf_matrix/np.sum(cf_matrix) *10, index = class_names, columns = class_names)\n",
    "plt.figure(figsize = (12,7))\n",
    "sn.heatmap(df_cm, annot=True)"
   ]
  },
  {
   "cell_type": "markdown",
   "id": "5b440930",
   "metadata": {
    "execution": {
     "iopub.status.busy": "2024-02-04T14:38:42.203941Z",
     "iopub.status.idle": "2024-02-04T14:38:42.204245Z",
     "shell.execute_reply": "2024-02-04T14:38:42.204106Z",
     "shell.execute_reply.started": "2024-02-04T14:38:42.204094Z"
    },
    "id": "Gd2U7nAYTFZ5",
    "papermill": {
     "duration": 0.044126,
     "end_time": "2024-02-04T15:23:09.607352",
     "exception": false,
     "start_time": "2024-02-04T15:23:09.563226",
     "status": "completed"
    },
    "tags": []
   },
   "source": [
    "The model performed preety well.We can achieve higher accuracy by using more complex model with more parameters. The model seems to confuse between dog and cat images.This phenomenon is often referred to as \"class overlap\" or \"class ambiguity\". That means that they share many visual features. These shared features can make it challenging for a machine learning model to differentiate between them, especially if the model is not provided with sufficient training examples that highlight these differences. The another factor is model complexity. If the model is relatively simple or lacks the capacity to capture intricate patterns in the data, it may fail to learn the subtle differences between classes."
   ]
  }
 ],
 "metadata": {
  "accelerator": "GPU",
  "colab": {
   "gpuType": "T4",
   "machine_shape": "hm",
   "provenance": []
  },
  "kaggle": {
   "accelerator": "nvidiaTeslaT4",
   "dataSources": [],
   "dockerImageVersionId": 30646,
   "isGpuEnabled": true,
   "isInternetEnabled": true,
   "language": "python",
   "sourceType": "notebook"
  },
  "kernelspec": {
   "display_name": "myenv",
   "language": "python",
   "name": "python3"
  },
  "language_info": {
   "codemirror_mode": {
    "name": "ipython",
    "version": 3
   },
   "file_extension": ".py",
   "mimetype": "text/x-python",
   "name": "python",
   "nbconvert_exporter": "python",
   "pygments_lexer": "ipython3",
   "version": "3.12.3"
  },
  "papermill": {
   "default_parameters": {},
   "duration": 2533.703582,
   "end_time": "2024-02-04T15:23:12.022875",
   "environment_variables": {},
   "exception": null,
   "input_path": "__notebook__.ipynb",
   "output_path": "__notebook__.ipynb",
   "parameters": {},
   "start_time": "2024-02-04T14:40:58.319293",
   "version": "2.5.0"
  },
  "widgets": {
   "application/vnd.jupyter.widget-state+json": {
    "state": {
     "116025f93cb74dd3b05ca9b3b8ffc493": {
      "model_module": "@jupyter-widgets/base",
      "model_module_version": "1.2.0",
      "model_name": "LayoutModel",
      "state": {
       "_model_module": "@jupyter-widgets/base",
       "_model_module_version": "1.2.0",
       "_model_name": "LayoutModel",
       "_view_count": null,
       "_view_module": "@jupyter-widgets/base",
       "_view_module_version": "1.2.0",
       "_view_name": "LayoutView",
       "align_content": null,
       "align_items": null,
       "align_self": null,
       "border": null,
       "bottom": null,
       "display": null,
       "flex": null,
       "flex_flow": null,
       "grid_area": null,
       "grid_auto_columns": null,
       "grid_auto_flow": null,
       "grid_auto_rows": null,
       "grid_column": null,
       "grid_gap": null,
       "grid_row": null,
       "grid_template_areas": null,
       "grid_template_columns": null,
       "grid_template_rows": null,
       "height": null,
       "justify_content": null,
       "justify_items": null,
       "left": null,
       "margin": null,
       "max_height": null,
       "max_width": null,
       "min_height": null,
       "min_width": null,
       "object_fit": null,
       "object_position": null,
       "order": null,
       "overflow": null,
       "overflow_x": null,
       "overflow_y": null,
       "padding": null,
       "right": null,
       "top": null,
       "visibility": null,
       "width": null
      }
     },
     "14456ea269fc4b5db7373d7adc6cea18": {
      "model_module": "@jupyter-widgets/controls",
      "model_module_version": "1.5.0",
      "model_name": "DescriptionStyleModel",
      "state": {
       "_model_module": "@jupyter-widgets/controls",
       "_model_module_version": "1.5.0",
       "_model_name": "DescriptionStyleModel",
       "_view_count": null,
       "_view_module": "@jupyter-widgets/base",
       "_view_module_version": "1.2.0",
       "_view_name": "StyleView",
       "description_width": ""
      }
     },
     "1fe522eaa9b4491db709206e3c3d5a6a": {
      "model_module": "@jupyter-widgets/controls",
      "model_module_version": "1.5.0",
      "model_name": "HTMLModel",
      "state": {
       "_dom_classes": [],
       "_model_module": "@jupyter-widgets/controls",
       "_model_module_version": "1.5.0",
       "_model_name": "HTMLModel",
       "_view_count": null,
       "_view_module": "@jupyter-widgets/controls",
       "_view_module_version": "1.5.0",
       "_view_name": "HTMLView",
       "description": "",
       "description_tooltip": null,
       "layout": "IPY_MODEL_64023616130146bd87b1a1ec798717d8",
       "placeholder": "​",
       "style": "IPY_MODEL_14456ea269fc4b5db7373d7adc6cea18",
       "value": "100%"
      }
     },
     "47e5a351b6a84252838019fe856fa046": {
      "model_module": "@jupyter-widgets/controls",
      "model_module_version": "1.5.0",
      "model_name": "HTMLModel",
      "state": {
       "_dom_classes": [],
       "_model_module": "@jupyter-widgets/controls",
       "_model_module_version": "1.5.0",
       "_model_name": "HTMLModel",
       "_view_count": null,
       "_view_module": "@jupyter-widgets/controls",
       "_view_module_version": "1.5.0",
       "_view_name": "HTMLView",
       "description": "",
       "description_tooltip": null,
       "layout": "IPY_MODEL_c463571d888e43f5a3118d95f20c720c",
       "placeholder": "​",
       "style": "IPY_MODEL_921b7f14493745fb85fdc93090e72e9c",
       "value": "100%"
      }
     },
     "4f78d75c255a4c6fa0c8ef404de1e808": {
      "model_module": "@jupyter-widgets/controls",
      "model_module_version": "1.5.0",
      "model_name": "ProgressStyleModel",
      "state": {
       "_model_module": "@jupyter-widgets/controls",
       "_model_module_version": "1.5.0",
       "_model_name": "ProgressStyleModel",
       "_view_count": null,
       "_view_module": "@jupyter-widgets/base",
       "_view_module_version": "1.2.0",
       "_view_name": "StyleView",
       "bar_color": null,
       "description_width": ""
      }
     },
     "64023616130146bd87b1a1ec798717d8": {
      "model_module": "@jupyter-widgets/base",
      "model_module_version": "1.2.0",
      "model_name": "LayoutModel",
      "state": {
       "_model_module": "@jupyter-widgets/base",
       "_model_module_version": "1.2.0",
       "_model_name": "LayoutModel",
       "_view_count": null,
       "_view_module": "@jupyter-widgets/base",
       "_view_module_version": "1.2.0",
       "_view_name": "LayoutView",
       "align_content": null,
       "align_items": null,
       "align_self": null,
       "border": null,
       "bottom": null,
       "display": null,
       "flex": null,
       "flex_flow": null,
       "grid_area": null,
       "grid_auto_columns": null,
       "grid_auto_flow": null,
       "grid_auto_rows": null,
       "grid_column": null,
       "grid_gap": null,
       "grid_row": null,
       "grid_template_areas": null,
       "grid_template_columns": null,
       "grid_template_rows": null,
       "height": null,
       "justify_content": null,
       "justify_items": null,
       "left": null,
       "margin": null,
       "max_height": null,
       "max_width": null,
       "min_height": null,
       "min_width": null,
       "object_fit": null,
       "object_position": null,
       "order": null,
       "overflow": null,
       "overflow_x": null,
       "overflow_y": null,
       "padding": null,
       "right": null,
       "top": null,
       "visibility": null,
       "width": null
      }
     },
     "74f3e82ea22c4b8daf9dce92b18efa2d": {
      "model_module": "@jupyter-widgets/base",
      "model_module_version": "1.2.0",
      "model_name": "LayoutModel",
      "state": {
       "_model_module": "@jupyter-widgets/base",
       "_model_module_version": "1.2.0",
       "_model_name": "LayoutModel",
       "_view_count": null,
       "_view_module": "@jupyter-widgets/base",
       "_view_module_version": "1.2.0",
       "_view_name": "LayoutView",
       "align_content": null,
       "align_items": null,
       "align_self": null,
       "border": null,
       "bottom": null,
       "display": null,
       "flex": null,
       "flex_flow": null,
       "grid_area": null,
       "grid_auto_columns": null,
       "grid_auto_flow": null,
       "grid_auto_rows": null,
       "grid_column": null,
       "grid_gap": null,
       "grid_row": null,
       "grid_template_areas": null,
       "grid_template_columns": null,
       "grid_template_rows": null,
       "height": null,
       "justify_content": null,
       "justify_items": null,
       "left": null,
       "margin": null,
       "max_height": null,
       "max_width": null,
       "min_height": null,
       "min_width": null,
       "object_fit": null,
       "object_position": null,
       "order": null,
       "overflow": null,
       "overflow_x": null,
       "overflow_y": null,
       "padding": null,
       "right": null,
       "top": null,
       "visibility": null,
       "width": null
      }
     },
     "74f9bea89cf44143b6961307ad8101be": {
      "model_module": "@jupyter-widgets/controls",
      "model_module_version": "1.5.0",
      "model_name": "FloatProgressModel",
      "state": {
       "_dom_classes": [],
       "_model_module": "@jupyter-widgets/controls",
       "_model_module_version": "1.5.0",
       "_model_name": "FloatProgressModel",
       "_view_count": null,
       "_view_module": "@jupyter-widgets/controls",
       "_view_module_version": "1.5.0",
       "_view_name": "ProgressView",
       "bar_style": "success",
       "description": "",
       "description_tooltip": null,
       "layout": "IPY_MODEL_b97748ea964e4114bdd259a1ae5bf3d8",
       "max": 30,
       "min": 0,
       "orientation": "horizontal",
       "style": "IPY_MODEL_d472ef13fcef4b52b2142b19d807f19d",
       "value": 30
      }
     },
     "7ed5b563880148dabb870bb0ea81d1fe": {
      "model_module": "@jupyter-widgets/controls",
      "model_module_version": "1.5.0",
      "model_name": "HTMLModel",
      "state": {
       "_dom_classes": [],
       "_model_module": "@jupyter-widgets/controls",
       "_model_module_version": "1.5.0",
       "_model_name": "HTMLModel",
       "_view_count": null,
       "_view_module": "@jupyter-widgets/controls",
       "_view_module_version": "1.5.0",
       "_view_name": "HTMLView",
       "description": "",
       "description_tooltip": null,
       "layout": "IPY_MODEL_f326a50861024008bcc9b589d95ab71a",
       "placeholder": "​",
       "style": "IPY_MODEL_9ca267ed2e48475fadf2c96afd1b6c7f",
       "value": " 30/30 [14:32&lt;00:00, 29.24s/it]"
      }
     },
     "8736bc8b45d74c18936eb462e1d5a70e": {
      "model_module": "@jupyter-widgets/controls",
      "model_module_version": "1.5.0",
      "model_name": "DescriptionStyleModel",
      "state": {
       "_model_module": "@jupyter-widgets/controls",
       "_model_module_version": "1.5.0",
       "_model_name": "DescriptionStyleModel",
       "_view_count": null,
       "_view_module": "@jupyter-widgets/base",
       "_view_module_version": "1.2.0",
       "_view_name": "StyleView",
       "description_width": ""
      }
     },
     "8d6d4117c04d4b2680ca7c681880175f": {
      "model_module": "@jupyter-widgets/controls",
      "model_module_version": "1.5.0",
      "model_name": "HTMLModel",
      "state": {
       "_dom_classes": [],
       "_model_module": "@jupyter-widgets/controls",
       "_model_module_version": "1.5.0",
       "_model_name": "HTMLModel",
       "_view_count": null,
       "_view_module": "@jupyter-widgets/controls",
       "_view_module_version": "1.5.0",
       "_view_name": "HTMLView",
       "description": "",
       "description_tooltip": null,
       "layout": "IPY_MODEL_d1ced7af220d4e908e66e8c78a14b5ee",
       "placeholder": "​",
       "style": "IPY_MODEL_94e1e116548e43a68dccb63dd112f049",
       "value": " 30/30 [12:27&lt;00:00, 24.96s/it]"
      }
     },
     "90acdfd294d44e4da61b9b9092655144": {
      "model_module": "@jupyter-widgets/controls",
      "model_module_version": "1.5.0",
      "model_name": "HBoxModel",
      "state": {
       "_dom_classes": [],
       "_model_module": "@jupyter-widgets/controls",
       "_model_module_version": "1.5.0",
       "_model_name": "HBoxModel",
       "_view_count": null,
       "_view_module": "@jupyter-widgets/controls",
       "_view_module_version": "1.5.0",
       "_view_name": "HBoxView",
       "box_style": "",
       "children": [
        "IPY_MODEL_bbe8f7680bbb43569357c1c7dc579cc5",
        "IPY_MODEL_74f9bea89cf44143b6961307ad8101be",
        "IPY_MODEL_fa3607dcb0194f7cb6fbe0ad1645fdaa"
       ],
       "layout": "IPY_MODEL_e539fca57ab44815a3857eb9966f77df"
      }
     },
     "921b7f14493745fb85fdc93090e72e9c": {
      "model_module": "@jupyter-widgets/controls",
      "model_module_version": "1.5.0",
      "model_name": "DescriptionStyleModel",
      "state": {
       "_model_module": "@jupyter-widgets/controls",
       "_model_module_version": "1.5.0",
       "_model_name": "DescriptionStyleModel",
       "_view_count": null,
       "_view_module": "@jupyter-widgets/base",
       "_view_module_version": "1.2.0",
       "_view_name": "StyleView",
       "description_width": ""
      }
     },
     "93bbab725c03407abcaa726176693822": {
      "model_module": "@jupyter-widgets/controls",
      "model_module_version": "1.5.0",
      "model_name": "HBoxModel",
      "state": {
       "_dom_classes": [],
       "_model_module": "@jupyter-widgets/controls",
       "_model_module_version": "1.5.0",
       "_model_name": "HBoxModel",
       "_view_count": null,
       "_view_module": "@jupyter-widgets/controls",
       "_view_module_version": "1.5.0",
       "_view_name": "HBoxView",
       "box_style": "",
       "children": [
        "IPY_MODEL_47e5a351b6a84252838019fe856fa046",
        "IPY_MODEL_9ecab23555604bc5aa7a7ee12532142a",
        "IPY_MODEL_7ed5b563880148dabb870bb0ea81d1fe"
       ],
       "layout": "IPY_MODEL_a6a0e7053fb34a0e837272c6159d2d19"
      }
     },
     "94e1e116548e43a68dccb63dd112f049": {
      "model_module": "@jupyter-widgets/controls",
      "model_module_version": "1.5.0",
      "model_name": "DescriptionStyleModel",
      "state": {
       "_model_module": "@jupyter-widgets/controls",
       "_model_module_version": "1.5.0",
       "_model_name": "DescriptionStyleModel",
       "_view_count": null,
       "_view_module": "@jupyter-widgets/base",
       "_view_module_version": "1.2.0",
       "_view_name": "StyleView",
       "description_width": ""
      }
     },
     "9ca267ed2e48475fadf2c96afd1b6c7f": {
      "model_module": "@jupyter-widgets/controls",
      "model_module_version": "1.5.0",
      "model_name": "DescriptionStyleModel",
      "state": {
       "_model_module": "@jupyter-widgets/controls",
       "_model_module_version": "1.5.0",
       "_model_name": "DescriptionStyleModel",
       "_view_count": null,
       "_view_module": "@jupyter-widgets/base",
       "_view_module_version": "1.2.0",
       "_view_name": "StyleView",
       "description_width": ""
      }
     },
     "9ecab23555604bc5aa7a7ee12532142a": {
      "model_module": "@jupyter-widgets/controls",
      "model_module_version": "1.5.0",
      "model_name": "FloatProgressModel",
      "state": {
       "_dom_classes": [],
       "_model_module": "@jupyter-widgets/controls",
       "_model_module_version": "1.5.0",
       "_model_name": "FloatProgressModel",
       "_view_count": null,
       "_view_module": "@jupyter-widgets/controls",
       "_view_module_version": "1.5.0",
       "_view_name": "ProgressView",
       "bar_style": "success",
       "description": "",
       "description_tooltip": null,
       "layout": "IPY_MODEL_116025f93cb74dd3b05ca9b3b8ffc493",
       "max": 30,
       "min": 0,
       "orientation": "horizontal",
       "style": "IPY_MODEL_4f78d75c255a4c6fa0c8ef404de1e808",
       "value": 30
      }
     },
     "9ed3096958814c24a1e31ff054d9f225": {
      "model_module": "@jupyter-widgets/controls",
      "model_module_version": "1.5.0",
      "model_name": "DescriptionStyleModel",
      "state": {
       "_model_module": "@jupyter-widgets/controls",
       "_model_module_version": "1.5.0",
       "_model_name": "DescriptionStyleModel",
       "_view_count": null,
       "_view_module": "@jupyter-widgets/base",
       "_view_module_version": "1.2.0",
       "_view_name": "StyleView",
       "description_width": ""
      }
     },
     "a55828aad341433ba45b6d90fdb608b4": {
      "model_module": "@jupyter-widgets/controls",
      "model_module_version": "1.5.0",
      "model_name": "FloatProgressModel",
      "state": {
       "_dom_classes": [],
       "_model_module": "@jupyter-widgets/controls",
       "_model_module_version": "1.5.0",
       "_model_name": "FloatProgressModel",
       "_view_count": null,
       "_view_module": "@jupyter-widgets/controls",
       "_view_module_version": "1.5.0",
       "_view_name": "ProgressView",
       "bar_style": "success",
       "description": "",
       "description_tooltip": null,
       "layout": "IPY_MODEL_c357d31d190f4d09933318ed6935190c",
       "max": 30,
       "min": 0,
       "orientation": "horizontal",
       "style": "IPY_MODEL_d2226c260b1341929bda3d1cff8536d4",
       "value": 30
      }
     },
     "a60c1b4e469944258d8cf72a697d4570": {
      "model_module": "@jupyter-widgets/base",
      "model_module_version": "1.2.0",
      "model_name": "LayoutModel",
      "state": {
       "_model_module": "@jupyter-widgets/base",
       "_model_module_version": "1.2.0",
       "_model_name": "LayoutModel",
       "_view_count": null,
       "_view_module": "@jupyter-widgets/base",
       "_view_module_version": "1.2.0",
       "_view_name": "LayoutView",
       "align_content": null,
       "align_items": null,
       "align_self": null,
       "border": null,
       "bottom": null,
       "display": null,
       "flex": null,
       "flex_flow": null,
       "grid_area": null,
       "grid_auto_columns": null,
       "grid_auto_flow": null,
       "grid_auto_rows": null,
       "grid_column": null,
       "grid_gap": null,
       "grid_row": null,
       "grid_template_areas": null,
       "grid_template_columns": null,
       "grid_template_rows": null,
       "height": null,
       "justify_content": null,
       "justify_items": null,
       "left": null,
       "margin": null,
       "max_height": null,
       "max_width": null,
       "min_height": null,
       "min_width": null,
       "object_fit": null,
       "object_position": null,
       "order": null,
       "overflow": null,
       "overflow_x": null,
       "overflow_y": null,
       "padding": null,
       "right": null,
       "top": null,
       "visibility": null,
       "width": null
      }
     },
     "a6a0e7053fb34a0e837272c6159d2d19": {
      "model_module": "@jupyter-widgets/base",
      "model_module_version": "1.2.0",
      "model_name": "LayoutModel",
      "state": {
       "_model_module": "@jupyter-widgets/base",
       "_model_module_version": "1.2.0",
       "_model_name": "LayoutModel",
       "_view_count": null,
       "_view_module": "@jupyter-widgets/base",
       "_view_module_version": "1.2.0",
       "_view_name": "LayoutView",
       "align_content": null,
       "align_items": null,
       "align_self": null,
       "border": null,
       "bottom": null,
       "display": null,
       "flex": null,
       "flex_flow": null,
       "grid_area": null,
       "grid_auto_columns": null,
       "grid_auto_flow": null,
       "grid_auto_rows": null,
       "grid_column": null,
       "grid_gap": null,
       "grid_row": null,
       "grid_template_areas": null,
       "grid_template_columns": null,
       "grid_template_rows": null,
       "height": null,
       "justify_content": null,
       "justify_items": null,
       "left": null,
       "margin": null,
       "max_height": null,
       "max_width": null,
       "min_height": null,
       "min_width": null,
       "object_fit": null,
       "object_position": null,
       "order": null,
       "overflow": null,
       "overflow_x": null,
       "overflow_y": null,
       "padding": null,
       "right": null,
       "top": null,
       "visibility": null,
       "width": null
      }
     },
     "b97748ea964e4114bdd259a1ae5bf3d8": {
      "model_module": "@jupyter-widgets/base",
      "model_module_version": "1.2.0",
      "model_name": "LayoutModel",
      "state": {
       "_model_module": "@jupyter-widgets/base",
       "_model_module_version": "1.2.0",
       "_model_name": "LayoutModel",
       "_view_count": null,
       "_view_module": "@jupyter-widgets/base",
       "_view_module_version": "1.2.0",
       "_view_name": "LayoutView",
       "align_content": null,
       "align_items": null,
       "align_self": null,
       "border": null,
       "bottom": null,
       "display": null,
       "flex": null,
       "flex_flow": null,
       "grid_area": null,
       "grid_auto_columns": null,
       "grid_auto_flow": null,
       "grid_auto_rows": null,
       "grid_column": null,
       "grid_gap": null,
       "grid_row": null,
       "grid_template_areas": null,
       "grid_template_columns": null,
       "grid_template_rows": null,
       "height": null,
       "justify_content": null,
       "justify_items": null,
       "left": null,
       "margin": null,
       "max_height": null,
       "max_width": null,
       "min_height": null,
       "min_width": null,
       "object_fit": null,
       "object_position": null,
       "order": null,
       "overflow": null,
       "overflow_x": null,
       "overflow_y": null,
       "padding": null,
       "right": null,
       "top": null,
       "visibility": null,
       "width": null
      }
     },
     "bbe8f7680bbb43569357c1c7dc579cc5": {
      "model_module": "@jupyter-widgets/controls",
      "model_module_version": "1.5.0",
      "model_name": "HTMLModel",
      "state": {
       "_dom_classes": [],
       "_model_module": "@jupyter-widgets/controls",
       "_model_module_version": "1.5.0",
       "_model_name": "HTMLModel",
       "_view_count": null,
       "_view_module": "@jupyter-widgets/controls",
       "_view_module_version": "1.5.0",
       "_view_name": "HTMLView",
       "description": "",
       "description_tooltip": null,
       "layout": "IPY_MODEL_74f3e82ea22c4b8daf9dce92b18efa2d",
       "placeholder": "​",
       "style": "IPY_MODEL_8736bc8b45d74c18936eb462e1d5a70e",
       "value": "100%"
      }
     },
     "c357d31d190f4d09933318ed6935190c": {
      "model_module": "@jupyter-widgets/base",
      "model_module_version": "1.2.0",
      "model_name": "LayoutModel",
      "state": {
       "_model_module": "@jupyter-widgets/base",
       "_model_module_version": "1.2.0",
       "_model_name": "LayoutModel",
       "_view_count": null,
       "_view_module": "@jupyter-widgets/base",
       "_view_module_version": "1.2.0",
       "_view_name": "LayoutView",
       "align_content": null,
       "align_items": null,
       "align_self": null,
       "border": null,
       "bottom": null,
       "display": null,
       "flex": null,
       "flex_flow": null,
       "grid_area": null,
       "grid_auto_columns": null,
       "grid_auto_flow": null,
       "grid_auto_rows": null,
       "grid_column": null,
       "grid_gap": null,
       "grid_row": null,
       "grid_template_areas": null,
       "grid_template_columns": null,
       "grid_template_rows": null,
       "height": null,
       "justify_content": null,
       "justify_items": null,
       "left": null,
       "margin": null,
       "max_height": null,
       "max_width": null,
       "min_height": null,
       "min_width": null,
       "object_fit": null,
       "object_position": null,
       "order": null,
       "overflow": null,
       "overflow_x": null,
       "overflow_y": null,
       "padding": null,
       "right": null,
       "top": null,
       "visibility": null,
       "width": null
      }
     },
     "c463571d888e43f5a3118d95f20c720c": {
      "model_module": "@jupyter-widgets/base",
      "model_module_version": "1.2.0",
      "model_name": "LayoutModel",
      "state": {
       "_model_module": "@jupyter-widgets/base",
       "_model_module_version": "1.2.0",
       "_model_name": "LayoutModel",
       "_view_count": null,
       "_view_module": "@jupyter-widgets/base",
       "_view_module_version": "1.2.0",
       "_view_name": "LayoutView",
       "align_content": null,
       "align_items": null,
       "align_self": null,
       "border": null,
       "bottom": null,
       "display": null,
       "flex": null,
       "flex_flow": null,
       "grid_area": null,
       "grid_auto_columns": null,
       "grid_auto_flow": null,
       "grid_auto_rows": null,
       "grid_column": null,
       "grid_gap": null,
       "grid_row": null,
       "grid_template_areas": null,
       "grid_template_columns": null,
       "grid_template_rows": null,
       "height": null,
       "justify_content": null,
       "justify_items": null,
       "left": null,
       "margin": null,
       "max_height": null,
       "max_width": null,
       "min_height": null,
       "min_width": null,
       "object_fit": null,
       "object_position": null,
       "order": null,
       "overflow": null,
       "overflow_x": null,
       "overflow_y": null,
       "padding": null,
       "right": null,
       "top": null,
       "visibility": null,
       "width": null
      }
     },
     "d1ced7af220d4e908e66e8c78a14b5ee": {
      "model_module": "@jupyter-widgets/base",
      "model_module_version": "1.2.0",
      "model_name": "LayoutModel",
      "state": {
       "_model_module": "@jupyter-widgets/base",
       "_model_module_version": "1.2.0",
       "_model_name": "LayoutModel",
       "_view_count": null,
       "_view_module": "@jupyter-widgets/base",
       "_view_module_version": "1.2.0",
       "_view_name": "LayoutView",
       "align_content": null,
       "align_items": null,
       "align_self": null,
       "border": null,
       "bottom": null,
       "display": null,
       "flex": null,
       "flex_flow": null,
       "grid_area": null,
       "grid_auto_columns": null,
       "grid_auto_flow": null,
       "grid_auto_rows": null,
       "grid_column": null,
       "grid_gap": null,
       "grid_row": null,
       "grid_template_areas": null,
       "grid_template_columns": null,
       "grid_template_rows": null,
       "height": null,
       "justify_content": null,
       "justify_items": null,
       "left": null,
       "margin": null,
       "max_height": null,
       "max_width": null,
       "min_height": null,
       "min_width": null,
       "object_fit": null,
       "object_position": null,
       "order": null,
       "overflow": null,
       "overflow_x": null,
       "overflow_y": null,
       "padding": null,
       "right": null,
       "top": null,
       "visibility": null,
       "width": null
      }
     },
     "d2226c260b1341929bda3d1cff8536d4": {
      "model_module": "@jupyter-widgets/controls",
      "model_module_version": "1.5.0",
      "model_name": "ProgressStyleModel",
      "state": {
       "_model_module": "@jupyter-widgets/controls",
       "_model_module_version": "1.5.0",
       "_model_name": "ProgressStyleModel",
       "_view_count": null,
       "_view_module": "@jupyter-widgets/base",
       "_view_module_version": "1.2.0",
       "_view_name": "StyleView",
       "bar_color": null,
       "description_width": ""
      }
     },
     "d472ef13fcef4b52b2142b19d807f19d": {
      "model_module": "@jupyter-widgets/controls",
      "model_module_version": "1.5.0",
      "model_name": "ProgressStyleModel",
      "state": {
       "_model_module": "@jupyter-widgets/controls",
       "_model_module_version": "1.5.0",
       "_model_name": "ProgressStyleModel",
       "_view_count": null,
       "_view_module": "@jupyter-widgets/base",
       "_view_module_version": "1.2.0",
       "_view_name": "StyleView",
       "bar_color": null,
       "description_width": ""
      }
     },
     "d66365bd19894aea81292f9d0a861a2f": {
      "model_module": "@jupyter-widgets/controls",
      "model_module_version": "1.5.0",
      "model_name": "HBoxModel",
      "state": {
       "_dom_classes": [],
       "_model_module": "@jupyter-widgets/controls",
       "_model_module_version": "1.5.0",
       "_model_name": "HBoxModel",
       "_view_count": null,
       "_view_module": "@jupyter-widgets/controls",
       "_view_module_version": "1.5.0",
       "_view_name": "HBoxView",
       "box_style": "",
       "children": [
        "IPY_MODEL_1fe522eaa9b4491db709206e3c3d5a6a",
        "IPY_MODEL_a55828aad341433ba45b6d90fdb608b4",
        "IPY_MODEL_8d6d4117c04d4b2680ca7c681880175f"
       ],
       "layout": "IPY_MODEL_dbf09a7cc7774efbbf3ae2742ad2d285"
      }
     },
     "dbf09a7cc7774efbbf3ae2742ad2d285": {
      "model_module": "@jupyter-widgets/base",
      "model_module_version": "1.2.0",
      "model_name": "LayoutModel",
      "state": {
       "_model_module": "@jupyter-widgets/base",
       "_model_module_version": "1.2.0",
       "_model_name": "LayoutModel",
       "_view_count": null,
       "_view_module": "@jupyter-widgets/base",
       "_view_module_version": "1.2.0",
       "_view_name": "LayoutView",
       "align_content": null,
       "align_items": null,
       "align_self": null,
       "border": null,
       "bottom": null,
       "display": null,
       "flex": null,
       "flex_flow": null,
       "grid_area": null,
       "grid_auto_columns": null,
       "grid_auto_flow": null,
       "grid_auto_rows": null,
       "grid_column": null,
       "grid_gap": null,
       "grid_row": null,
       "grid_template_areas": null,
       "grid_template_columns": null,
       "grid_template_rows": null,
       "height": null,
       "justify_content": null,
       "justify_items": null,
       "left": null,
       "margin": null,
       "max_height": null,
       "max_width": null,
       "min_height": null,
       "min_width": null,
       "object_fit": null,
       "object_position": null,
       "order": null,
       "overflow": null,
       "overflow_x": null,
       "overflow_y": null,
       "padding": null,
       "right": null,
       "top": null,
       "visibility": null,
       "width": null
      }
     },
     "e539fca57ab44815a3857eb9966f77df": {
      "model_module": "@jupyter-widgets/base",
      "model_module_version": "1.2.0",
      "model_name": "LayoutModel",
      "state": {
       "_model_module": "@jupyter-widgets/base",
       "_model_module_version": "1.2.0",
       "_model_name": "LayoutModel",
       "_view_count": null,
       "_view_module": "@jupyter-widgets/base",
       "_view_module_version": "1.2.0",
       "_view_name": "LayoutView",
       "align_content": null,
       "align_items": null,
       "align_self": null,
       "border": null,
       "bottom": null,
       "display": null,
       "flex": null,
       "flex_flow": null,
       "grid_area": null,
       "grid_auto_columns": null,
       "grid_auto_flow": null,
       "grid_auto_rows": null,
       "grid_column": null,
       "grid_gap": null,
       "grid_row": null,
       "grid_template_areas": null,
       "grid_template_columns": null,
       "grid_template_rows": null,
       "height": null,
       "justify_content": null,
       "justify_items": null,
       "left": null,
       "margin": null,
       "max_height": null,
       "max_width": null,
       "min_height": null,
       "min_width": null,
       "object_fit": null,
       "object_position": null,
       "order": null,
       "overflow": null,
       "overflow_x": null,
       "overflow_y": null,
       "padding": null,
       "right": null,
       "top": null,
       "visibility": null,
       "width": null
      }
     },
     "f326a50861024008bcc9b589d95ab71a": {
      "model_module": "@jupyter-widgets/base",
      "model_module_version": "1.2.0",
      "model_name": "LayoutModel",
      "state": {
       "_model_module": "@jupyter-widgets/base",
       "_model_module_version": "1.2.0",
       "_model_name": "LayoutModel",
       "_view_count": null,
       "_view_module": "@jupyter-widgets/base",
       "_view_module_version": "1.2.0",
       "_view_name": "LayoutView",
       "align_content": null,
       "align_items": null,
       "align_self": null,
       "border": null,
       "bottom": null,
       "display": null,
       "flex": null,
       "flex_flow": null,
       "grid_area": null,
       "grid_auto_columns": null,
       "grid_auto_flow": null,
       "grid_auto_rows": null,
       "grid_column": null,
       "grid_gap": null,
       "grid_row": null,
       "grid_template_areas": null,
       "grid_template_columns": null,
       "grid_template_rows": null,
       "height": null,
       "justify_content": null,
       "justify_items": null,
       "left": null,
       "margin": null,
       "max_height": null,
       "max_width": null,
       "min_height": null,
       "min_width": null,
       "object_fit": null,
       "object_position": null,
       "order": null,
       "overflow": null,
       "overflow_x": null,
       "overflow_y": null,
       "padding": null,
       "right": null,
       "top": null,
       "visibility": null,
       "width": null
      }
     },
     "fa3607dcb0194f7cb6fbe0ad1645fdaa": {
      "model_module": "@jupyter-widgets/controls",
      "model_module_version": "1.5.0",
      "model_name": "HTMLModel",
      "state": {
       "_dom_classes": [],
       "_model_module": "@jupyter-widgets/controls",
       "_model_module_version": "1.5.0",
       "_model_name": "HTMLModel",
       "_view_count": null,
       "_view_module": "@jupyter-widgets/controls",
       "_view_module_version": "1.5.0",
       "_view_name": "HTMLView",
       "description": "",
       "description_tooltip": null,
       "layout": "IPY_MODEL_a60c1b4e469944258d8cf72a697d4570",
       "placeholder": "​",
       "style": "IPY_MODEL_9ed3096958814c24a1e31ff054d9f225",
       "value": " 30/30 [14:11&lt;00:00, 28.28s/it]"
      }
     }
    },
    "version_major": 2,
    "version_minor": 0
   }
  }
 },
 "nbformat": 4,
 "nbformat_minor": 5
}
